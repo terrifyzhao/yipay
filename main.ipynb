{
 "cells": [
  {
   "cell_type": "code",
   "execution_count": 1,
   "metadata": {
    "pycharm": {
     "is_executing": false
    }
   },
   "outputs": [],
   "source": [
    "import pandas as pd\n",
    "import numpy as np\n",
    "import joblib\n",
    "import os\n",
    "from sklearn.preprocessing import OneHotEncoder\n",
    "from sklearn.model_selection import KFold\n",
    "from tqdm import tqdm\n",
    "\n",
    "pd.options.mode.chained_assignment = None"
   ]
  },
  {
   "cell_type": "code",
   "execution_count": 2,
   "metadata": {
    "pycharm": {
     "is_executing": false
    }
   },
   "outputs": [],
   "source": [
    "#显示所有列\n",
    "pd.set_option('display.max_columns', None)\n",
    "#显示所有行\n",
    "pd.set_option('display.max_rows', 100)\n",
    "#设置value的显示长度为100，默认为50\n",
    "pd.set_option('max_colwidth',100)"
   ]
  },
  {
   "cell_type": "code",
   "execution_count": 3,
   "metadata": {
    "pycharm": {
     "is_executing": false
    }
   },
   "outputs": [],
   "source": [
    "train_base = pd.read_csv('data/train_base.csv')\n",
    "test_a_base = pd.read_csv('data/test_a_base.csv')\n",
    "\n",
    "train_op = pd.read_csv('data/train_op.csv')\n",
    "test_a_op = pd.read_csv('data/test_a_op.csv')\n",
    "\n",
    "train_trans = pd.read_csv('data/train_trans.csv')\n",
    "test_a_trans = pd.read_csv('data/test_a_trans.csv')\n",
    "\n",
    "train_label = pd.read_csv('data/train_label.csv')"
   ]
  },
  {
   "cell_type": "code",
   "execution_count": 4,
   "metadata": {
    "pycharm": {
     "is_executing": false
    }
   },
   "outputs": [],
   "source": [
    "train_base = pd.read_csv('data/train_base.csv')\n",
    "train_base = pd.merge(train_base, train_label, on='user', how='left')"
   ]
  },
  {
   "cell_type": "markdown",
   "metadata": {},
   "source": [
    "# base"
   ]
  },
  {
   "cell_type": "markdown",
   "metadata": {},
   "source": [
    "### 填充nan，去除user列"
   ]
  },
  {
   "cell_type": "code",
   "execution_count": 5,
   "metadata": {
    "pycharm": {
     "is_executing": false
    }
   },
   "outputs": [],
   "source": [
    "train_base_no_nan = train_base.drop(columns=['service3_level'],axis=1)\n",
    "# 离散值填充众数\n",
    "train_base_no_nan['sex'].fillna('category 0',inplace=True)\n",
    "train_base_no_nan['balance_avg'].fillna('level 1',inplace=True)\n",
    "train_base_no_nan['balance1_avg'].fillna('level 1',inplace=True)\n",
    "train_base_no_nan['balance2_avg'].fillna('level 1',inplace=True)\n",
    "\n",
    "user = train_base_no_nan['user'].values\n",
    "train_base_no_user = train_base_no_nan.drop(columns=['user'],axis=1)"
   ]
  },
  {
   "cell_type": "markdown",
   "metadata": {},
   "source": [
    "### one-hot"
   ]
  },
  {
   "cell_type": "code",
   "execution_count": 6,
   "metadata": {
    "pycharm": {
     "is_executing": false
    }
   },
   "outputs": [],
   "source": [
    "category_columns_name = ['sex','provider','level','verified','agreement1','agreement2','agreement3','agreement4','service3',\n",
    "                        'product3_amount','product4_amount','product5_amount']\n",
    "\n",
    "one_hot_df = pd.get_dummies(train_base_no_user[category_columns_name])\n",
    "\n",
    "one_hot_df['agreement_all_0'] = one_hot_df['agreement1_category 0'].values & one_hot_df['agreement2_category 0'].values & \\\n",
    "                                 one_hot_df['agreement3_category 0'].values & one_hot_df['agreement4_category 0'].values\n",
    "one_hot_df['agreement_all_1'] = one_hot_df['agreement1_category 1'].values & one_hot_df['agreement2_category 1'].values & \\\n",
    "                                 one_hot_df['agreement3_category 1'].values & one_hot_df['agreement4_category 1'].values"
   ]
  },
  {
   "cell_type": "markdown",
   "metadata": {},
   "source": [
    "### mean encoding"
   ]
  },
  {
   "cell_type": "code",
   "execution_count": 7,
   "metadata": {
    "pycharm": {
     "is_executing": false
    }
   },
   "outputs": [],
   "source": [
    "city_mean = joblib.load('city_mean')[0]\n",
    "province_mean = joblib.load('province_mean')[0]\n",
    "regist_type_mean = joblib.load('regist_type_mean')[0]\n",
    "balance_mean = joblib.load('balance_mean')[0]\n",
    "balance_avg_mean = joblib.load('balance_avg_mean')[0]\n",
    "balance1_mean = joblib.load('balance1_mean')[0]\n",
    "balance1_avg_mean = joblib.load('balance1_avg_mean')[0]\n",
    "balance2_mean = joblib.load('balance2_mean')[0]\n",
    "balance2_avg_mean = joblib.load('balance2_avg_mean')[0]\n",
    "product1_amount_mean = joblib.load('product1_amount_mean')[0]\n",
    "product2_amount_mean = joblib.load('product2_amount_mean')[0]\n",
    "product6_amount_mean = joblib.load('product6_amount_mean')[0]"
   ]
  },
  {
   "cell_type": "code",
   "execution_count": 8,
   "metadata": {
    "pycharm": {
     "is_executing": false
    }
   },
   "outputs": [],
   "source": [
    "train_base_categoty = pd.DataFrame()\n",
    "train_base_categoty['city'] = city_mean\n",
    "train_base_categoty['province'] = province_mean\n",
    "train_base_categoty['regist_type'] = regist_type_mean\n",
    "train_base_categoty['balance'] = balance_mean\n",
    "train_base_categoty['balance_avg'] = balance_avg_mean\n",
    "train_base_categoty['balance1'] = balance1_mean\n",
    "train_base_categoty['balance1_avg'] = balance1_avg_mean\n",
    "train_base_categoty['balance2'] = balance2_mean\n",
    "train_base_categoty['balance2_avg'] = balance2_avg_mean\n",
    "train_base_categoty['product1_amount'] = product1_amount_mean\n",
    "train_base_categoty['product2_amount'] = product2_amount_mean\n",
    "train_base_categoty['product6_amount'] = product6_amount_mean"
   ]
  },
  {
   "cell_type": "code",
   "execution_count": 9,
   "metadata": {
    "pycharm": {
     "is_executing": false
    }
   },
   "outputs": [],
   "source": [
    "def magic_feature(df, f1, f2):\n",
    "    df[f'{f1}_{f2}_a'] = df[f1]+df[f2]\n",
    "    df[f'{f1}_{f2}_s'] = df[f1]-df[f2]\n",
    "    df[f'{f1}_{f2}_m'] = df[f1]*df[f2]\n",
    "    df[f'{f1}_{f2}_d'] = df[f1]/df[f2]"
   ]
  },
  {
   "cell_type": "code",
   "execution_count": 10,
   "metadata": {
    "pycharm": {
     "is_executing": false
    }
   },
   "outputs": [],
   "source": [
    "magic_feature(train_base_categoty,'city','province')\n",
    "magic_feature(train_base_categoty,'balance1','balance2')\n",
    "magic_feature(train_base_categoty,'balance1_avg','balance2_avg')"
   ]
  },
  {
   "cell_type": "code",
   "execution_count": 11,
   "metadata": {
    "pycharm": {
     "is_executing": false
    }
   },
   "outputs": [],
   "source": [
    "train_base_categoty['product_amount_a'] = train_base_categoty['product1_amount']+train_base_categoty['product2_amount']+ \\\n",
    "                                        train_base_categoty['product6_amount']\n",
    "train_base_categoty['product_amount_m'] = train_base_categoty['product1_amount']*train_base_categoty['product2_amount']* \\\n",
    "                                        train_base_categoty['product6_amount']"
   ]
  },
  {
   "cell_type": "markdown",
   "metadata": {},
   "source": [
    "### 连续变量的处理"
   ]
  },
  {
   "cell_type": "code",
   "execution_count": 12,
   "metadata": {
    "pycharm": {
     "is_executing": false
    }
   },
   "outputs": [],
   "source": [
    "df_value = train_base_no_user.select_dtypes('int64')"
   ]
  },
  {
   "cell_type": "code",
   "execution_count": 13,
   "metadata": {
    "pycharm": {
     "is_executing": false
    }
   },
   "outputs": [],
   "source": [
    "df_value['product7_success_cnt'] = df_value['product7_cnt']-df_value['product7_fail_cnt']\n",
    "\n",
    "df_value['card_cnt'] = df_value['card_a_cnt']+df_value['card_b_cnt']+df_value['card_c_cnt']+df_value['card_d_cnt']\n",
    "\n",
    "df_value['ip_cnt_avg'] = df_value['ip_cnt']/df_value['login_days_cnt']\n",
    "\n",
    "df_value['login_cnt_period1_avg']=df_value['login_cnt_period1']/df_value['login_days_cnt']\n",
    "df_value['login_cnt_period2_avg']=df_value['login_cnt_period2']/df_value['login_days_cnt']\n",
    "df_value['login_cnt_period']=df_value['login_cnt_period1']+df_value['login_cnt_period2']\n",
    "df_value['login_cnt_period_avg']=df_value['login_cnt_period']/df_value['login_days_cnt']\n",
    "\n",
    "df_value['service_cnt']=df_value['service1_cnt']+df_value['service2_cnt']\n",
    "df_value['service_avg1_amt']=df_value['service1_amt']/df_value['service1_cnt']\n",
    "\n",
    "df_value['op_cnt']=df_value['op1_cnt']+df_value['op2_cnt']"
   ]
  },
  {
   "cell_type": "code",
   "execution_count": 14,
   "metadata": {
    "pycharm": {
     "is_executing": false
    }
   },
   "outputs": [],
   "source": [
    "# 归一化\n",
    "df_value = (df_value-df_value.min())/(df_value.max()-df_value.min())\n",
    "\n",
    "df_base = pd.DataFrame()\n",
    "df_base['user'] = user\n",
    "df_base = pd.concat([df_base, one_hot_df, train_base_categoty, df_value],axis=1)"
   ]
  },
  {
   "cell_type": "code",
   "execution_count": 15,
   "metadata": {
    "pycharm": {
     "is_executing": false
    }
   },
   "outputs": [
    {
     "name": "stdout",
     "text": [
      "(47782, 87)\n"
     ],
     "output_type": "stream"
    },
    {
     "data": {
      "text/plain": "          user  sex_category 0  sex_category 1  provider_category 0  \\\n0  Train_06800               0               1                    1   \n1  Train_23487               0               1                    1   \n2  Train_36880               1               0                    1   \n3  Train_35392               1               0                    0   \n4  Train_35057               1               0                    1   \n\n   provider_category 1  provider_category 2  level_category 0  \\\n0                    0                    0                 0   \n1                    0                    0                 0   \n2                    0                    0                 0   \n3                    1                    0                 0   \n4                    0                    0                 0   \n\n   level_category 1  level_category 2  verified_category 0  \\\n0                 0                 1                    1   \n1                 0                 1                    1   \n2                 0                 1                    1   \n3                 1                 0                    1   \n4                 0                 1                    1   \n\n   verified_category 1  agreement1_category 0  agreement1_category 1  \\\n0                    0                      1                      0   \n1                    0                      1                      0   \n2                    0                      1                      0   \n3                    0                      1                      0   \n4                    0                      1                      0   \n\n   agreement2_category 0  agreement2_category 1  agreement3_category 0  \\\n0                      1                      0                      0   \n1                      1                      0                      1   \n2                      1                      0                      1   \n3                      1                      0                      1   \n4                      1                      0                      1   \n\n   agreement3_category 1  agreement4_category 0  agreement4_category 1  \\\n0                      1                      1                      0   \n1                      0                      0                      1   \n2                      0                      1                      0   \n3                      0                      1                      0   \n4                      0                      0                      1   \n\n   service3_category 0  service3_category 1  product3_amount_level 1  \\\n0                    1                    0                        1   \n1                    1                    0                        1   \n2                    1                    0                        1   \n3                    1                    0                        1   \n4                    1                    0                        1   \n\n   product3_amount_level 2  product3_amount_level 3  product4_amount_level 0  \\\n0                        0                        0                        1   \n1                        0                        0                        1   \n2                        0                        0                        1   \n3                        0                        0                        1   \n4                        0                        0                        1   \n\n   product4_amount_level 1  product5_amount_level 0  product5_amount_level 1  \\\n0                        0                        1                        0   \n1                        0                        1                        0   \n2                        0                        1                        0   \n3                        0                        1                        0   \n4                        0                        1                        0   \n\n   agreement_all_0  agreement_all_1      city  province  regist_type  \\\n0                0                0  0.209745  0.228319     0.272324   \n1                0                0  0.192537  0.197526     0.272325   \n2                1                0  0.260383  0.229435     0.272325   \n3                1                0  0.187942  0.202425     0.251503   \n4                0                0  0.254198  0.313573     0.306774   \n\n    balance  balance_avg  balance1  balance1_avg  balance2  balance2_avg  \\\n0  0.289289     0.348267  0.281047      0.296220  0.272243      0.332417   \n1  0.216850     0.225402  0.281046      0.296220  0.212152      0.224895   \n2  0.228048     0.255795  0.186335      0.201498  0.272241      0.224895   \n3  0.256300     0.244538  0.281046      0.296220  0.265382      0.199576   \n4  0.206639     0.223866  0.281047      0.296219  0.207842      0.224895   \n\n   product1_amount  product2_amount  product6_amount  city_province_a  \\\n0         0.289505         0.289504         0.280204         0.438065   \n1         0.289504         0.289505         0.280195         0.390063   \n2         0.289505         0.289505         0.280195         0.489818   \n3         0.289504         0.289505         0.280204         0.390367   \n4         0.200390         0.172091         0.280195         0.567772   \n\n   city_province_s  city_province_m  city_province_d  balance1_balance2_a  \\\n0        -0.018574         0.047889         0.918649             0.553290   \n1        -0.004989         0.038031         0.974745             0.493198   \n2         0.030949         0.059741         1.134890             0.458576   \n3        -0.014484         0.038044         0.928449             0.546429   \n4        -0.059375         0.079710         0.810649             0.488888   \n\n   balance1_balance2_s  balance1_balance2_m  balance1_balance2_d  \\\n0             0.008804             0.076513             1.032339   \n1             0.068895             0.059624             1.324742   \n2            -0.085906             0.050728             0.684449   \n3             0.015664             0.074585             1.059025   \n4             0.073205             0.058413             1.352215   \n\n   balance1_avg_balance2_avg_a  balance1_avg_balance2_avg_s  \\\n0                     0.628637                    -0.036197   \n1                     0.521115                     0.071324   \n2                     0.426393                    -0.023397   \n3                     0.495795                     0.096644   \n4                     0.521115                     0.071324   \n\n   balance1_avg_balance2_avg_m  balance1_avg_balance2_avg_d  product_amount_a  \\\n0                     0.098468                     0.891109          0.859214   \n1                     0.066618                     1.317145          0.859205   \n2                     0.045316                     0.895964          0.859205   \n3                     0.059118                     1.484247          0.859213   \n4                     0.066618                     1.317144          0.652676   \n\n   product_amount_m       age  using_time  card_a_cnt  card_b_cnt  card_c_cnt  \\\n0          0.023485  0.235862    0.415094    0.057692    0.098361    0.000000   \n1          0.023484  0.260690    0.245283    0.125000    0.213115    0.000000   \n2          0.023484  0.202759    0.320755    0.125000    0.213115    0.000000   \n3          0.023485  0.320000    0.018868    0.057692    0.098361    0.000000   \n4          0.009663  0.344828    0.415094    0.125000    0.098361    0.070588   \n\n    op1_cnt   op2_cnt  card_d_cnt  agreement_total  service1_cnt  \\\n0  0.091346  0.027397         0.0         0.203252           0.0   \n1  0.062500  0.027397         0.0         0.252033           0.0   \n2  0.028846  0.027397         0.0         0.349593           0.0   \n3  0.000000  0.000000         0.0         0.203252           0.0   \n4  0.028846  0.027397         0.0         0.349593           0.0   \n\n   service1_amt  service2_cnt  acc_count  login_cnt_period1  \\\n0           0.0           0.0   0.003762           0.004402   \n1           0.0           0.0   0.001736           0.004759   \n2           0.0           0.0   0.005498           0.019068   \n3           0.0           0.0   0.005498           0.003347   \n4           0.0           0.0   0.001736           0.003646   \n\n   login_cnt_period2    ip_cnt  login_cnt_avg  login_days_cnt  product7_cnt  \\\n0           0.003142  0.010150       0.021058        0.078467       0.00000   \n1           0.004061  0.045406       0.012243        0.167883       0.04878   \n2           0.010166  0.123932       0.018119        0.322993       0.04878   \n3           0.003779  0.049145       0.012243        0.155109       0.04878   \n4           0.001435  0.032585       0.002938        0.155109       0.04878   \n\n   product7_fail_cnt  label  product7_success_cnt  card_cnt  ip_cnt_avg  \\\n0                0.0    0.0              0.000000  0.057692    0.225496   \n1                0.0    1.0              0.857143  0.125000    0.235239   \n2                0.0    1.0              0.857143  0.125000    0.270565   \n3                0.0    0.0              0.857143  0.057692    0.243241   \n4                0.0    1.0              0.857143  0.120192    0.225519   \n\n   login_cnt_period1_avg  login_cnt_period2_avg  login_cnt_period  \\\n0               0.004135               0.002801          0.003810   \n1               0.004076               0.003265          0.004431   \n2               0.017896               0.008655          0.014887   \n3               0.002696               0.003046          0.003550   \n4               0.003001               0.000651          0.002607   \n\n   login_cnt_period_avg  service_cnt  service_avg1_amt    op_cnt  \n0              0.003509          0.0          0.000017  0.110132  \n1              0.003695          0.0          0.000017  0.083700  \n2              0.013557          0.0          0.000017  0.052863  \n3              0.002860          0.0          0.000017  0.000000  \n4              0.001898          0.0          0.000017  0.052863  ",
      "text/html": "<div>\n<style scoped>\n    .dataframe tbody tr th:only-of-type {\n        vertical-align: middle;\n    }\n\n    .dataframe tbody tr th {\n        vertical-align: top;\n    }\n\n    .dataframe thead th {\n        text-align: right;\n    }\n</style>\n<table border=\"1\" class=\"dataframe\">\n  <thead>\n    <tr style=\"text-align: right;\">\n      <th></th>\n      <th>user</th>\n      <th>sex_category 0</th>\n      <th>sex_category 1</th>\n      <th>provider_category 0</th>\n      <th>provider_category 1</th>\n      <th>provider_category 2</th>\n      <th>level_category 0</th>\n      <th>level_category 1</th>\n      <th>level_category 2</th>\n      <th>verified_category 0</th>\n      <th>verified_category 1</th>\n      <th>agreement1_category 0</th>\n      <th>agreement1_category 1</th>\n      <th>agreement2_category 0</th>\n      <th>agreement2_category 1</th>\n      <th>agreement3_category 0</th>\n      <th>agreement3_category 1</th>\n      <th>agreement4_category 0</th>\n      <th>agreement4_category 1</th>\n      <th>service3_category 0</th>\n      <th>service3_category 1</th>\n      <th>product3_amount_level 1</th>\n      <th>product3_amount_level 2</th>\n      <th>product3_amount_level 3</th>\n      <th>product4_amount_level 0</th>\n      <th>product4_amount_level 1</th>\n      <th>product5_amount_level 0</th>\n      <th>product5_amount_level 1</th>\n      <th>agreement_all_0</th>\n      <th>agreement_all_1</th>\n      <th>city</th>\n      <th>province</th>\n      <th>regist_type</th>\n      <th>balance</th>\n      <th>balance_avg</th>\n      <th>balance1</th>\n      <th>balance1_avg</th>\n      <th>balance2</th>\n      <th>balance2_avg</th>\n      <th>product1_amount</th>\n      <th>product2_amount</th>\n      <th>product6_amount</th>\n      <th>city_province_a</th>\n      <th>city_province_s</th>\n      <th>city_province_m</th>\n      <th>city_province_d</th>\n      <th>balance1_balance2_a</th>\n      <th>balance1_balance2_s</th>\n      <th>balance1_balance2_m</th>\n      <th>balance1_balance2_d</th>\n      <th>balance1_avg_balance2_avg_a</th>\n      <th>balance1_avg_balance2_avg_s</th>\n      <th>balance1_avg_balance2_avg_m</th>\n      <th>balance1_avg_balance2_avg_d</th>\n      <th>product_amount_a</th>\n      <th>product_amount_m</th>\n      <th>age</th>\n      <th>using_time</th>\n      <th>card_a_cnt</th>\n      <th>card_b_cnt</th>\n      <th>card_c_cnt</th>\n      <th>op1_cnt</th>\n      <th>op2_cnt</th>\n      <th>card_d_cnt</th>\n      <th>agreement_total</th>\n      <th>service1_cnt</th>\n      <th>service1_amt</th>\n      <th>service2_cnt</th>\n      <th>acc_count</th>\n      <th>login_cnt_period1</th>\n      <th>login_cnt_period2</th>\n      <th>ip_cnt</th>\n      <th>login_cnt_avg</th>\n      <th>login_days_cnt</th>\n      <th>product7_cnt</th>\n      <th>product7_fail_cnt</th>\n      <th>label</th>\n      <th>product7_success_cnt</th>\n      <th>card_cnt</th>\n      <th>ip_cnt_avg</th>\n      <th>login_cnt_period1_avg</th>\n      <th>login_cnt_period2_avg</th>\n      <th>login_cnt_period</th>\n      <th>login_cnt_period_avg</th>\n      <th>service_cnt</th>\n      <th>service_avg1_amt</th>\n      <th>op_cnt</th>\n    </tr>\n  </thead>\n  <tbody>\n    <tr>\n      <th>0</th>\n      <td>Train_06800</td>\n      <td>0</td>\n      <td>1</td>\n      <td>1</td>\n      <td>0</td>\n      <td>0</td>\n      <td>0</td>\n      <td>0</td>\n      <td>1</td>\n      <td>1</td>\n      <td>0</td>\n      <td>1</td>\n      <td>0</td>\n      <td>1</td>\n      <td>0</td>\n      <td>0</td>\n      <td>1</td>\n      <td>1</td>\n      <td>0</td>\n      <td>1</td>\n      <td>0</td>\n      <td>1</td>\n      <td>0</td>\n      <td>0</td>\n      <td>1</td>\n      <td>0</td>\n      <td>1</td>\n      <td>0</td>\n      <td>0</td>\n      <td>0</td>\n      <td>0.209745</td>\n      <td>0.228319</td>\n      <td>0.272324</td>\n      <td>0.289289</td>\n      <td>0.348267</td>\n      <td>0.281047</td>\n      <td>0.296220</td>\n      <td>0.272243</td>\n      <td>0.332417</td>\n      <td>0.289505</td>\n      <td>0.289504</td>\n      <td>0.280204</td>\n      <td>0.438065</td>\n      <td>-0.018574</td>\n      <td>0.047889</td>\n      <td>0.918649</td>\n      <td>0.553290</td>\n      <td>0.008804</td>\n      <td>0.076513</td>\n      <td>1.032339</td>\n      <td>0.628637</td>\n      <td>-0.036197</td>\n      <td>0.098468</td>\n      <td>0.891109</td>\n      <td>0.859214</td>\n      <td>0.023485</td>\n      <td>0.235862</td>\n      <td>0.415094</td>\n      <td>0.057692</td>\n      <td>0.098361</td>\n      <td>0.000000</td>\n      <td>0.091346</td>\n      <td>0.027397</td>\n      <td>0.0</td>\n      <td>0.203252</td>\n      <td>0.0</td>\n      <td>0.0</td>\n      <td>0.0</td>\n      <td>0.003762</td>\n      <td>0.004402</td>\n      <td>0.003142</td>\n      <td>0.010150</td>\n      <td>0.021058</td>\n      <td>0.078467</td>\n      <td>0.00000</td>\n      <td>0.0</td>\n      <td>0.0</td>\n      <td>0.000000</td>\n      <td>0.057692</td>\n      <td>0.225496</td>\n      <td>0.004135</td>\n      <td>0.002801</td>\n      <td>0.003810</td>\n      <td>0.003509</td>\n      <td>0.0</td>\n      <td>0.000017</td>\n      <td>0.110132</td>\n    </tr>\n    <tr>\n      <th>1</th>\n      <td>Train_23487</td>\n      <td>0</td>\n      <td>1</td>\n      <td>1</td>\n      <td>0</td>\n      <td>0</td>\n      <td>0</td>\n      <td>0</td>\n      <td>1</td>\n      <td>1</td>\n      <td>0</td>\n      <td>1</td>\n      <td>0</td>\n      <td>1</td>\n      <td>0</td>\n      <td>1</td>\n      <td>0</td>\n      <td>0</td>\n      <td>1</td>\n      <td>1</td>\n      <td>0</td>\n      <td>1</td>\n      <td>0</td>\n      <td>0</td>\n      <td>1</td>\n      <td>0</td>\n      <td>1</td>\n      <td>0</td>\n      <td>0</td>\n      <td>0</td>\n      <td>0.192537</td>\n      <td>0.197526</td>\n      <td>0.272325</td>\n      <td>0.216850</td>\n      <td>0.225402</td>\n      <td>0.281046</td>\n      <td>0.296220</td>\n      <td>0.212152</td>\n      <td>0.224895</td>\n      <td>0.289504</td>\n      <td>0.289505</td>\n      <td>0.280195</td>\n      <td>0.390063</td>\n      <td>-0.004989</td>\n      <td>0.038031</td>\n      <td>0.974745</td>\n      <td>0.493198</td>\n      <td>0.068895</td>\n      <td>0.059624</td>\n      <td>1.324742</td>\n      <td>0.521115</td>\n      <td>0.071324</td>\n      <td>0.066618</td>\n      <td>1.317145</td>\n      <td>0.859205</td>\n      <td>0.023484</td>\n      <td>0.260690</td>\n      <td>0.245283</td>\n      <td>0.125000</td>\n      <td>0.213115</td>\n      <td>0.000000</td>\n      <td>0.062500</td>\n      <td>0.027397</td>\n      <td>0.0</td>\n      <td>0.252033</td>\n      <td>0.0</td>\n      <td>0.0</td>\n      <td>0.0</td>\n      <td>0.001736</td>\n      <td>0.004759</td>\n      <td>0.004061</td>\n      <td>0.045406</td>\n      <td>0.012243</td>\n      <td>0.167883</td>\n      <td>0.04878</td>\n      <td>0.0</td>\n      <td>1.0</td>\n      <td>0.857143</td>\n      <td>0.125000</td>\n      <td>0.235239</td>\n      <td>0.004076</td>\n      <td>0.003265</td>\n      <td>0.004431</td>\n      <td>0.003695</td>\n      <td>0.0</td>\n      <td>0.000017</td>\n      <td>0.083700</td>\n    </tr>\n    <tr>\n      <th>2</th>\n      <td>Train_36880</td>\n      <td>1</td>\n      <td>0</td>\n      <td>1</td>\n      <td>0</td>\n      <td>0</td>\n      <td>0</td>\n      <td>0</td>\n      <td>1</td>\n      <td>1</td>\n      <td>0</td>\n      <td>1</td>\n      <td>0</td>\n      <td>1</td>\n      <td>0</td>\n      <td>1</td>\n      <td>0</td>\n      <td>1</td>\n      <td>0</td>\n      <td>1</td>\n      <td>0</td>\n      <td>1</td>\n      <td>0</td>\n      <td>0</td>\n      <td>1</td>\n      <td>0</td>\n      <td>1</td>\n      <td>0</td>\n      <td>1</td>\n      <td>0</td>\n      <td>0.260383</td>\n      <td>0.229435</td>\n      <td>0.272325</td>\n      <td>0.228048</td>\n      <td>0.255795</td>\n      <td>0.186335</td>\n      <td>0.201498</td>\n      <td>0.272241</td>\n      <td>0.224895</td>\n      <td>0.289505</td>\n      <td>0.289505</td>\n      <td>0.280195</td>\n      <td>0.489818</td>\n      <td>0.030949</td>\n      <td>0.059741</td>\n      <td>1.134890</td>\n      <td>0.458576</td>\n      <td>-0.085906</td>\n      <td>0.050728</td>\n      <td>0.684449</td>\n      <td>0.426393</td>\n      <td>-0.023397</td>\n      <td>0.045316</td>\n      <td>0.895964</td>\n      <td>0.859205</td>\n      <td>0.023484</td>\n      <td>0.202759</td>\n      <td>0.320755</td>\n      <td>0.125000</td>\n      <td>0.213115</td>\n      <td>0.000000</td>\n      <td>0.028846</td>\n      <td>0.027397</td>\n      <td>0.0</td>\n      <td>0.349593</td>\n      <td>0.0</td>\n      <td>0.0</td>\n      <td>0.0</td>\n      <td>0.005498</td>\n      <td>0.019068</td>\n      <td>0.010166</td>\n      <td>0.123932</td>\n      <td>0.018119</td>\n      <td>0.322993</td>\n      <td>0.04878</td>\n      <td>0.0</td>\n      <td>1.0</td>\n      <td>0.857143</td>\n      <td>0.125000</td>\n      <td>0.270565</td>\n      <td>0.017896</td>\n      <td>0.008655</td>\n      <td>0.014887</td>\n      <td>0.013557</td>\n      <td>0.0</td>\n      <td>0.000017</td>\n      <td>0.052863</td>\n    </tr>\n    <tr>\n      <th>3</th>\n      <td>Train_35392</td>\n      <td>1</td>\n      <td>0</td>\n      <td>0</td>\n      <td>1</td>\n      <td>0</td>\n      <td>0</td>\n      <td>1</td>\n      <td>0</td>\n      <td>1</td>\n      <td>0</td>\n      <td>1</td>\n      <td>0</td>\n      <td>1</td>\n      <td>0</td>\n      <td>1</td>\n      <td>0</td>\n      <td>1</td>\n      <td>0</td>\n      <td>1</td>\n      <td>0</td>\n      <td>1</td>\n      <td>0</td>\n      <td>0</td>\n      <td>1</td>\n      <td>0</td>\n      <td>1</td>\n      <td>0</td>\n      <td>1</td>\n      <td>0</td>\n      <td>0.187942</td>\n      <td>0.202425</td>\n      <td>0.251503</td>\n      <td>0.256300</td>\n      <td>0.244538</td>\n      <td>0.281046</td>\n      <td>0.296220</td>\n      <td>0.265382</td>\n      <td>0.199576</td>\n      <td>0.289504</td>\n      <td>0.289505</td>\n      <td>0.280204</td>\n      <td>0.390367</td>\n      <td>-0.014484</td>\n      <td>0.038044</td>\n      <td>0.928449</td>\n      <td>0.546429</td>\n      <td>0.015664</td>\n      <td>0.074585</td>\n      <td>1.059025</td>\n      <td>0.495795</td>\n      <td>0.096644</td>\n      <td>0.059118</td>\n      <td>1.484247</td>\n      <td>0.859213</td>\n      <td>0.023485</td>\n      <td>0.320000</td>\n      <td>0.018868</td>\n      <td>0.057692</td>\n      <td>0.098361</td>\n      <td>0.000000</td>\n      <td>0.000000</td>\n      <td>0.000000</td>\n      <td>0.0</td>\n      <td>0.203252</td>\n      <td>0.0</td>\n      <td>0.0</td>\n      <td>0.0</td>\n      <td>0.005498</td>\n      <td>0.003347</td>\n      <td>0.003779</td>\n      <td>0.049145</td>\n      <td>0.012243</td>\n      <td>0.155109</td>\n      <td>0.04878</td>\n      <td>0.0</td>\n      <td>0.0</td>\n      <td>0.857143</td>\n      <td>0.057692</td>\n      <td>0.243241</td>\n      <td>0.002696</td>\n      <td>0.003046</td>\n      <td>0.003550</td>\n      <td>0.002860</td>\n      <td>0.0</td>\n      <td>0.000017</td>\n      <td>0.000000</td>\n    </tr>\n    <tr>\n      <th>4</th>\n      <td>Train_35057</td>\n      <td>1</td>\n      <td>0</td>\n      <td>1</td>\n      <td>0</td>\n      <td>0</td>\n      <td>0</td>\n      <td>0</td>\n      <td>1</td>\n      <td>1</td>\n      <td>0</td>\n      <td>1</td>\n      <td>0</td>\n      <td>1</td>\n      <td>0</td>\n      <td>1</td>\n      <td>0</td>\n      <td>0</td>\n      <td>1</td>\n      <td>1</td>\n      <td>0</td>\n      <td>1</td>\n      <td>0</td>\n      <td>0</td>\n      <td>1</td>\n      <td>0</td>\n      <td>1</td>\n      <td>0</td>\n      <td>0</td>\n      <td>0</td>\n      <td>0.254198</td>\n      <td>0.313573</td>\n      <td>0.306774</td>\n      <td>0.206639</td>\n      <td>0.223866</td>\n      <td>0.281047</td>\n      <td>0.296219</td>\n      <td>0.207842</td>\n      <td>0.224895</td>\n      <td>0.200390</td>\n      <td>0.172091</td>\n      <td>0.280195</td>\n      <td>0.567772</td>\n      <td>-0.059375</td>\n      <td>0.079710</td>\n      <td>0.810649</td>\n      <td>0.488888</td>\n      <td>0.073205</td>\n      <td>0.058413</td>\n      <td>1.352215</td>\n      <td>0.521115</td>\n      <td>0.071324</td>\n      <td>0.066618</td>\n      <td>1.317144</td>\n      <td>0.652676</td>\n      <td>0.009663</td>\n      <td>0.344828</td>\n      <td>0.415094</td>\n      <td>0.125000</td>\n      <td>0.098361</td>\n      <td>0.070588</td>\n      <td>0.028846</td>\n      <td>0.027397</td>\n      <td>0.0</td>\n      <td>0.349593</td>\n      <td>0.0</td>\n      <td>0.0</td>\n      <td>0.0</td>\n      <td>0.001736</td>\n      <td>0.003646</td>\n      <td>0.001435</td>\n      <td>0.032585</td>\n      <td>0.002938</td>\n      <td>0.155109</td>\n      <td>0.04878</td>\n      <td>0.0</td>\n      <td>1.0</td>\n      <td>0.857143</td>\n      <td>0.120192</td>\n      <td>0.225519</td>\n      <td>0.003001</td>\n      <td>0.000651</td>\n      <td>0.002607</td>\n      <td>0.001898</td>\n      <td>0.0</td>\n      <td>0.000017</td>\n      <td>0.052863</td>\n    </tr>\n  </tbody>\n</table>\n</div>"
     },
     "metadata": {},
     "output_type": "execute_result",
     "execution_count": 15
    }
   ],
   "source": [
    "print(df_base.shape)\n",
    "df_base.head()"
   ]
  },
  {
   "cell_type": "markdown",
   "metadata": {},
   "source": [
    "## OP处理"
   ]
  },
  {
   "cell_type": "code",
   "execution_count": 16,
   "metadata": {
    "pycharm": {
     "is_executing": false
    }
   },
   "outputs": [],
   "source": [
    "op_df = pd.DataFrame()\n",
    "group = train_op.groupby(['user']).count()\n",
    "op_df['user'] = group.index"
   ]
  },
  {
   "cell_type": "code",
   "execution_count": 17,
   "metadata": {
    "pycharm": {
     "is_executing": false
    }
   },
   "outputs": [
    {
     "data": {
      "text/plain": "          user           op_type           op_mode         op_device  \\\n0  Train_36517  b26bc49195bd79cf  87ee0bdf333a54da  92dc8b3f9a9ea13b   \n1  Train_36517  b26bc49195bd79cf  87ee0bdf333a54da  92dc8b3f9a9ea13b   \n2  Train_36517  b26bc49195bd79cf  87ee0bdf333a54da  92dc8b3f9a9ea13b   \n3  Train_36517  b26bc49195bd79cf  87ee0bdf333a54da  92dc8b3f9a9ea13b   \n4  Train_36517  b26bc49195bd79cf  87ee0bdf333a54da  92dc8b3f9a9ea13b   \n\n                 ip          net_type           channel              ip_3  \\\n0  bbb0af60b941370b  116a2503b987ea81  4e1ff124e1e6adc8  1e46c177cd9d539a   \n1  bbb0af60b941370b  116a2503b987ea81  4e1ff124e1e6adc8  1e46c177cd9d539a   \n2  bbb0af60b941370b  116a2503b987ea81  4e1ff124e1e6adc8  1e46c177cd9d539a   \n3  bbb0af60b941370b  116a2503b987ea81  4e1ff124e1e6adc8  1e46c177cd9d539a   \n4  bbb0af60b941370b  116a2503b987ea81  4e1ff124e1e6adc8  1e46c177cd9d539a   \n\n                      tm_diff  \n0  11 days 09:38:22.000000000  \n1  11 days 09:38:21.000000000  \n2  11 days 09:38:23.000000000  \n3  11 days 09:38:26.000000000  \n4  11 days 09:38:41.000000000  ",
      "text/html": "<div>\n<style scoped>\n    .dataframe tbody tr th:only-of-type {\n        vertical-align: middle;\n    }\n\n    .dataframe tbody tr th {\n        vertical-align: top;\n    }\n\n    .dataframe thead th {\n        text-align: right;\n    }\n</style>\n<table border=\"1\" class=\"dataframe\">\n  <thead>\n    <tr style=\"text-align: right;\">\n      <th></th>\n      <th>user</th>\n      <th>op_type</th>\n      <th>op_mode</th>\n      <th>op_device</th>\n      <th>ip</th>\n      <th>net_type</th>\n      <th>channel</th>\n      <th>ip_3</th>\n      <th>tm_diff</th>\n    </tr>\n  </thead>\n  <tbody>\n    <tr>\n      <th>0</th>\n      <td>Train_36517</td>\n      <td>b26bc49195bd79cf</td>\n      <td>87ee0bdf333a54da</td>\n      <td>92dc8b3f9a9ea13b</td>\n      <td>bbb0af60b941370b</td>\n      <td>116a2503b987ea81</td>\n      <td>4e1ff124e1e6adc8</td>\n      <td>1e46c177cd9d539a</td>\n      <td>11 days 09:38:22.000000000</td>\n    </tr>\n    <tr>\n      <th>1</th>\n      <td>Train_36517</td>\n      <td>b26bc49195bd79cf</td>\n      <td>87ee0bdf333a54da</td>\n      <td>92dc8b3f9a9ea13b</td>\n      <td>bbb0af60b941370b</td>\n      <td>116a2503b987ea81</td>\n      <td>4e1ff124e1e6adc8</td>\n      <td>1e46c177cd9d539a</td>\n      <td>11 days 09:38:21.000000000</td>\n    </tr>\n    <tr>\n      <th>2</th>\n      <td>Train_36517</td>\n      <td>b26bc49195bd79cf</td>\n      <td>87ee0bdf333a54da</td>\n      <td>92dc8b3f9a9ea13b</td>\n      <td>bbb0af60b941370b</td>\n      <td>116a2503b987ea81</td>\n      <td>4e1ff124e1e6adc8</td>\n      <td>1e46c177cd9d539a</td>\n      <td>11 days 09:38:23.000000000</td>\n    </tr>\n    <tr>\n      <th>3</th>\n      <td>Train_36517</td>\n      <td>b26bc49195bd79cf</td>\n      <td>87ee0bdf333a54da</td>\n      <td>92dc8b3f9a9ea13b</td>\n      <td>bbb0af60b941370b</td>\n      <td>116a2503b987ea81</td>\n      <td>4e1ff124e1e6adc8</td>\n      <td>1e46c177cd9d539a</td>\n      <td>11 days 09:38:26.000000000</td>\n    </tr>\n    <tr>\n      <th>4</th>\n      <td>Train_36517</td>\n      <td>b26bc49195bd79cf</td>\n      <td>87ee0bdf333a54da</td>\n      <td>92dc8b3f9a9ea13b</td>\n      <td>bbb0af60b941370b</td>\n      <td>116a2503b987ea81</td>\n      <td>4e1ff124e1e6adc8</td>\n      <td>1e46c177cd9d539a</td>\n      <td>11 days 09:38:41.000000000</td>\n    </tr>\n  </tbody>\n</table>\n</div>"
     },
     "metadata": {},
     "output_type": "execute_result",
     "execution_count": 17
    }
   ],
   "source": [
    "train_op.head()"
   ]
  },
  {
   "cell_type": "code",
   "execution_count": 18,
   "metadata": {
    "pycharm": {
     "is_executing": false
    }
   },
   "outputs": [
    {
     "name": "stdout",
     "text": [
      "Index(['op_type', 'op_mode', 'op_device', 'ip', 'net_type', 'channel', 'ip_3'], dtype='object')\n"
     ],
     "output_type": "stream"
    }
   ],
   "source": [
    "count_column=train_op.columns[1:-1]\n",
    "print(count_column)\n",
    "for column in count_column:\n",
    "    op_df['op_'+column+'_count'] = train_op.groupby('user')[column].count().values\n",
    "    op_df['op_'+column+'_nunique'] = train_op.groupby('user')[column].nunique().values"
   ]
  },
  {
   "cell_type": "code",
   "execution_count": 19,
   "metadata": {
    "pycharm": {
     "is_executing": false
    }
   },
   "outputs": [],
   "source": [
    "from datetime import timedelta\n",
    "def timedelta2sec(delta):\n",
    "    day = delta.split('days')[0].strip()\n",
    "    h,m,s = delta.split('days')[1].strip().split(':')\n",
    "    sec=timedelta(days=int(day),hours=int(h),minutes=int(m),seconds=float(s)).total_seconds()\n",
    "    return sec\n",
    "\n",
    "train_op['time_diff_sec'] = train_op['tm_diff'].apply(timedelta2sec)\n",
    "\n",
    "for operate in ['max','min','mean','median','std']:\n",
    "    op_df['op_time_'+operate]=train_op.groupby('user')['time_diff_sec'].agg(operate).values"
   ]
  },
  {
   "cell_type": "code",
   "execution_count": 20,
   "metadata": {
    "pycharm": {
     "is_executing": false
    }
   },
   "outputs": [
    {
     "name": "stdout",
     "text": [
      "(41892, 20)\n"
     ],
     "output_type": "stream"
    },
    {
     "data": {
      "text/plain": "          user  op_op_type_count  op_op_type_nunique  op_op_mode_count  \\\n0  Train_00000               102                  11               102   \n1  Train_00001                18                   3                18   \n2  Train_00002                 8                   3                 8   \n3  Train_00003               108                   8               108   \n4  Train_00004                 5                   2                 5   \n\n   op_op_mode_nunique  op_op_device_count  op_op_device_nunique  op_ip_count  \\\n0                  12                  91                     2           90   \n1                   3                  18                     1           18   \n2                   3                   8                     1            8   \n3                   8                  93                     2           93   \n4                   2                   5                     1            5   \n\n   op_ip_nunique  op_net_type_count  op_net_type_nunique  op_channel_count  \\\n0              3                 30                    3               102   \n1              2                 12                    2                18   \n2              1                  7                    2                 8   \n3             18                 50                    2               108   \n4              1                  4                    1                 5   \n\n   op_channel_nunique  op_ip_3_count  op_ip_3_nunique  op_time_max  \\\n0                   4             90                3     683286.0   \n1                   3             18                2    1263768.0   \n2                   3              8                1    1283043.0   \n3                   3             93                5    1278388.0   \n4                   2              5                1     631021.0   \n\n   op_time_min  op_time_mean  op_time_median    op_time_std  \n0     219874.0  3.058014e+05        263361.0  125051.535485  \n1     409809.0  6.598048e+05        438553.5  385614.886428  \n2    1282741.0  1.282845e+06       1282751.5     139.053690  \n3     199014.0  9.408690e+05        957412.0  247893.797669  \n4     630973.0  6.309866e+05        630975.0      20.659138  ",
      "text/html": "<div>\n<style scoped>\n    .dataframe tbody tr th:only-of-type {\n        vertical-align: middle;\n    }\n\n    .dataframe tbody tr th {\n        vertical-align: top;\n    }\n\n    .dataframe thead th {\n        text-align: right;\n    }\n</style>\n<table border=\"1\" class=\"dataframe\">\n  <thead>\n    <tr style=\"text-align: right;\">\n      <th></th>\n      <th>user</th>\n      <th>op_op_type_count</th>\n      <th>op_op_type_nunique</th>\n      <th>op_op_mode_count</th>\n      <th>op_op_mode_nunique</th>\n      <th>op_op_device_count</th>\n      <th>op_op_device_nunique</th>\n      <th>op_ip_count</th>\n      <th>op_ip_nunique</th>\n      <th>op_net_type_count</th>\n      <th>op_net_type_nunique</th>\n      <th>op_channel_count</th>\n      <th>op_channel_nunique</th>\n      <th>op_ip_3_count</th>\n      <th>op_ip_3_nunique</th>\n      <th>op_time_max</th>\n      <th>op_time_min</th>\n      <th>op_time_mean</th>\n      <th>op_time_median</th>\n      <th>op_time_std</th>\n    </tr>\n  </thead>\n  <tbody>\n    <tr>\n      <th>0</th>\n      <td>Train_00000</td>\n      <td>102</td>\n      <td>11</td>\n      <td>102</td>\n      <td>12</td>\n      <td>91</td>\n      <td>2</td>\n      <td>90</td>\n      <td>3</td>\n      <td>30</td>\n      <td>3</td>\n      <td>102</td>\n      <td>4</td>\n      <td>90</td>\n      <td>3</td>\n      <td>683286.0</td>\n      <td>219874.0</td>\n      <td>3.058014e+05</td>\n      <td>263361.0</td>\n      <td>125051.535485</td>\n    </tr>\n    <tr>\n      <th>1</th>\n      <td>Train_00001</td>\n      <td>18</td>\n      <td>3</td>\n      <td>18</td>\n      <td>3</td>\n      <td>18</td>\n      <td>1</td>\n      <td>18</td>\n      <td>2</td>\n      <td>12</td>\n      <td>2</td>\n      <td>18</td>\n      <td>3</td>\n      <td>18</td>\n      <td>2</td>\n      <td>1263768.0</td>\n      <td>409809.0</td>\n      <td>6.598048e+05</td>\n      <td>438553.5</td>\n      <td>385614.886428</td>\n    </tr>\n    <tr>\n      <th>2</th>\n      <td>Train_00002</td>\n      <td>8</td>\n      <td>3</td>\n      <td>8</td>\n      <td>3</td>\n      <td>8</td>\n      <td>1</td>\n      <td>8</td>\n      <td>1</td>\n      <td>7</td>\n      <td>2</td>\n      <td>8</td>\n      <td>3</td>\n      <td>8</td>\n      <td>1</td>\n      <td>1283043.0</td>\n      <td>1282741.0</td>\n      <td>1.282845e+06</td>\n      <td>1282751.5</td>\n      <td>139.053690</td>\n    </tr>\n    <tr>\n      <th>3</th>\n      <td>Train_00003</td>\n      <td>108</td>\n      <td>8</td>\n      <td>108</td>\n      <td>8</td>\n      <td>93</td>\n      <td>2</td>\n      <td>93</td>\n      <td>18</td>\n      <td>50</td>\n      <td>2</td>\n      <td>108</td>\n      <td>3</td>\n      <td>93</td>\n      <td>5</td>\n      <td>1278388.0</td>\n      <td>199014.0</td>\n      <td>9.408690e+05</td>\n      <td>957412.0</td>\n      <td>247893.797669</td>\n    </tr>\n    <tr>\n      <th>4</th>\n      <td>Train_00004</td>\n      <td>5</td>\n      <td>2</td>\n      <td>5</td>\n      <td>2</td>\n      <td>5</td>\n      <td>1</td>\n      <td>5</td>\n      <td>1</td>\n      <td>4</td>\n      <td>1</td>\n      <td>5</td>\n      <td>2</td>\n      <td>5</td>\n      <td>1</td>\n      <td>631021.0</td>\n      <td>630973.0</td>\n      <td>6.309866e+05</td>\n      <td>630975.0</td>\n      <td>20.659138</td>\n    </tr>\n  </tbody>\n</table>\n</div>"
     },
     "metadata": {},
     "output_type": "execute_result",
     "execution_count": 20
    }
   ],
   "source": [
    "op_df.fillna(0,inplace=True)\n",
    "print(op_df.shape)\n",
    "op_df.head()"
   ]
  },
  {
   "cell_type": "markdown",
   "metadata": {},
   "source": [
    "## 交易处理"
   ]
  },
  {
   "cell_type": "code",
   "execution_count": 21,
   "metadata": {
    "pycharm": {
     "is_executing": false
    }
   },
   "outputs": [],
   "source": [
    "trans_df = pd.DataFrame()\n",
    "group = train_trans.groupby(['user']).count()\n",
    "trans_df['user'] = group.index"
   ]
  },
  {
   "cell_type": "markdown",
   "metadata": {},
   "source": [
    "### 离散列，全部统计有几个类别"
   ]
  },
  {
   "cell_type": "code",
   "execution_count": 22,
   "metadata": {
    "pycharm": {
     "is_executing": false
    }
   },
   "outputs": [
    {
     "name": "stdout",
     "text": [
      "platform\n",
      "tunnel_in\n",
      "tunnel_out\n",
      "type1\n",
      "ip\n",
      "type2\n",
      "ip_3\n"
     ],
     "output_type": "stream"
    }
   ],
   "source": [
    "count_column = list(train_trans.columns[1:4])+list(train_trans.columns[5:9]) \n",
    "for column in count_column:\n",
    "    print(column)\n",
    "    trans_df['trans_'+column+'_count'] = train_trans.groupby('user')[column].count().values\n",
    "    trans_df['trans_'+column+'_nunique'] = train_trans.groupby('user')[column].nunique().values\n",
    "#     des_df = train_trans.groupby('user')[column].describe()\n",
    "#     trans_df['trans_'+column+'_count'] = des_df['count'].values\n",
    "#     trans_df['trans_'+column+'_n'] = des_df['unique'].values\n",
    "#     trans_df['trans_'+column+'_fre'] = des_df['freq'].values"
   ]
  },
  {
   "cell_type": "markdown",
   "metadata": {},
   "source": [
    "### 处理amount"
   ]
  },
  {
   "cell_type": "code",
   "execution_count": 23,
   "metadata": {
    "pycharm": {
     "is_executing": false
    }
   },
   "outputs": [],
   "source": [
    "for operate in ['max','min','mean','median','std']:\n",
    "    trans_df['trans_amount_'+operate]=train_trans.groupby(['user'])['amount'].agg(operate).values"
   ]
  },
  {
   "cell_type": "markdown",
   "metadata": {},
   "source": [
    "### 处理时间"
   ]
  },
  {
   "cell_type": "code",
   "execution_count": 24,
   "metadata": {
    "pycharm": {
     "is_executing": false
    }
   },
   "outputs": [],
   "source": [
    "train_trans['time_diff_sec'] = train_trans['tm_diff'].apply(timedelta2sec)\n",
    "\n",
    "for operate in ['max','min','mean','median','std']:\n",
    "    trans_df['trans_time_'+operate]=train_trans.groupby('user')['time_diff_sec'].agg(operate).values"
   ]
  },
  {
   "cell_type": "markdown",
   "metadata": {},
   "source": [
    "### 标准差、freq有空值，用0填充"
   ]
  },
  {
   "cell_type": "code",
   "execution_count": 25,
   "metadata": {
    "pycharm": {
     "is_executing": false
    }
   },
   "outputs": [],
   "source": [
    "trans_df.fillna(0,inplace=True)"
   ]
  },
  {
   "cell_type": "code",
   "execution_count": 26,
   "metadata": {
    "pycharm": {
     "is_executing": false
    }
   },
   "outputs": [
    {
     "data": {
      "text/plain": "          user  trans_platform_count  trans_platform_nunique  \\\n0  Train_00000                    13                       2   \n1  Train_00001                     2                       2   \n2  Train_00002                    12                       2   \n3  Train_00003                    11                       2   \n4  Train_00004                     1                       1   \n\n   trans_tunnel_in_count  trans_tunnel_in_nunique  trans_tunnel_out_count  \\\n0                      7                        1                      13   \n1                      1                        1                       2   \n2                      7                        1                      12   \n3                      9                        1                      11   \n4                      0                        0                       1   \n\n   trans_tunnel_out_nunique  trans_type1_count  trans_type1_nunique  \\\n0                         1                 13                    4   \n1                         1                  2                    2   \n2                         1                 12                    3   \n3                         1                 11                    5   \n4                         1                  1                    1   \n\n   trans_ip_count  trans_ip_nunique  trans_type2_count  trans_type2_nunique  \\\n0               5                 2                  7                    1   \n1               1                 1                  1                    1   \n2               6                 3                  7                    1   \n3               8                 2                  9                    1   \n4               0                 0                  0                    0   \n\n   trans_ip_3_count  trans_ip_3_nunique  trans_amount_max  trans_amount_min  \\\n0                 5                   2            267542             24798   \n1                 1                   1             36098             36098   \n2                 6                   3            162423             24980   \n3                 8                   2            188880             25315   \n4                 0                   0             36689             36689   \n\n   trans_amount_mean  trans_amount_median  trans_amount_std  trans_time_max  \\\n0       53330.307692              30746.0      65274.138488       2478067.0   \n1       36098.000000              36098.0          0.000000       1821027.0   \n2       57329.583333              34541.5      49227.699521       2665430.0   \n3       61652.454545              36689.0      62929.509668       2563665.0   \n4       36689.000000              36689.0          0.000000       2014022.0   \n\n   trans_time_min  trans_time_mean  trans_time_median  trans_time_std  \n0       1169773.0     1.553383e+06          1627246.0    3.970320e+05  \n1        289554.0     1.055290e+06          1055290.5    1.082915e+06  \n2        575019.0     1.454428e+06           625491.0    1.069315e+06  \n3        830115.0     2.243363e+06          2562619.0    6.976849e+05  \n4       2014022.0     2.014022e+06          2014022.0    0.000000e+00  ",
      "text/html": "<div>\n<style scoped>\n    .dataframe tbody tr th:only-of-type {\n        vertical-align: middle;\n    }\n\n    .dataframe tbody tr th {\n        vertical-align: top;\n    }\n\n    .dataframe thead th {\n        text-align: right;\n    }\n</style>\n<table border=\"1\" class=\"dataframe\">\n  <thead>\n    <tr style=\"text-align: right;\">\n      <th></th>\n      <th>user</th>\n      <th>trans_platform_count</th>\n      <th>trans_platform_nunique</th>\n      <th>trans_tunnel_in_count</th>\n      <th>trans_tunnel_in_nunique</th>\n      <th>trans_tunnel_out_count</th>\n      <th>trans_tunnel_out_nunique</th>\n      <th>trans_type1_count</th>\n      <th>trans_type1_nunique</th>\n      <th>trans_ip_count</th>\n      <th>trans_ip_nunique</th>\n      <th>trans_type2_count</th>\n      <th>trans_type2_nunique</th>\n      <th>trans_ip_3_count</th>\n      <th>trans_ip_3_nunique</th>\n      <th>trans_amount_max</th>\n      <th>trans_amount_min</th>\n      <th>trans_amount_mean</th>\n      <th>trans_amount_median</th>\n      <th>trans_amount_std</th>\n      <th>trans_time_max</th>\n      <th>trans_time_min</th>\n      <th>trans_time_mean</th>\n      <th>trans_time_median</th>\n      <th>trans_time_std</th>\n    </tr>\n  </thead>\n  <tbody>\n    <tr>\n      <th>0</th>\n      <td>Train_00000</td>\n      <td>13</td>\n      <td>2</td>\n      <td>7</td>\n      <td>1</td>\n      <td>13</td>\n      <td>1</td>\n      <td>13</td>\n      <td>4</td>\n      <td>5</td>\n      <td>2</td>\n      <td>7</td>\n      <td>1</td>\n      <td>5</td>\n      <td>2</td>\n      <td>267542</td>\n      <td>24798</td>\n      <td>53330.307692</td>\n      <td>30746.0</td>\n      <td>65274.138488</td>\n      <td>2478067.0</td>\n      <td>1169773.0</td>\n      <td>1.553383e+06</td>\n      <td>1627246.0</td>\n      <td>3.970320e+05</td>\n    </tr>\n    <tr>\n      <th>1</th>\n      <td>Train_00001</td>\n      <td>2</td>\n      <td>2</td>\n      <td>1</td>\n      <td>1</td>\n      <td>2</td>\n      <td>1</td>\n      <td>2</td>\n      <td>2</td>\n      <td>1</td>\n      <td>1</td>\n      <td>1</td>\n      <td>1</td>\n      <td>1</td>\n      <td>1</td>\n      <td>36098</td>\n      <td>36098</td>\n      <td>36098.000000</td>\n      <td>36098.0</td>\n      <td>0.000000</td>\n      <td>1821027.0</td>\n      <td>289554.0</td>\n      <td>1.055290e+06</td>\n      <td>1055290.5</td>\n      <td>1.082915e+06</td>\n    </tr>\n    <tr>\n      <th>2</th>\n      <td>Train_00002</td>\n      <td>12</td>\n      <td>2</td>\n      <td>7</td>\n      <td>1</td>\n      <td>12</td>\n      <td>1</td>\n      <td>12</td>\n      <td>3</td>\n      <td>6</td>\n      <td>3</td>\n      <td>7</td>\n      <td>1</td>\n      <td>6</td>\n      <td>3</td>\n      <td>162423</td>\n      <td>24980</td>\n      <td>57329.583333</td>\n      <td>34541.5</td>\n      <td>49227.699521</td>\n      <td>2665430.0</td>\n      <td>575019.0</td>\n      <td>1.454428e+06</td>\n      <td>625491.0</td>\n      <td>1.069315e+06</td>\n    </tr>\n    <tr>\n      <th>3</th>\n      <td>Train_00003</td>\n      <td>11</td>\n      <td>2</td>\n      <td>9</td>\n      <td>1</td>\n      <td>11</td>\n      <td>1</td>\n      <td>11</td>\n      <td>5</td>\n      <td>8</td>\n      <td>2</td>\n      <td>9</td>\n      <td>1</td>\n      <td>8</td>\n      <td>2</td>\n      <td>188880</td>\n      <td>25315</td>\n      <td>61652.454545</td>\n      <td>36689.0</td>\n      <td>62929.509668</td>\n      <td>2563665.0</td>\n      <td>830115.0</td>\n      <td>2.243363e+06</td>\n      <td>2562619.0</td>\n      <td>6.976849e+05</td>\n    </tr>\n    <tr>\n      <th>4</th>\n      <td>Train_00004</td>\n      <td>1</td>\n      <td>1</td>\n      <td>0</td>\n      <td>0</td>\n      <td>1</td>\n      <td>1</td>\n      <td>1</td>\n      <td>1</td>\n      <td>0</td>\n      <td>0</td>\n      <td>0</td>\n      <td>0</td>\n      <td>0</td>\n      <td>0</td>\n      <td>36689</td>\n      <td>36689</td>\n      <td>36689.000000</td>\n      <td>36689.0</td>\n      <td>0.000000</td>\n      <td>2014022.0</td>\n      <td>2014022.0</td>\n      <td>2.014022e+06</td>\n      <td>2014022.0</td>\n      <td>0.000000e+00</td>\n    </tr>\n  </tbody>\n</table>\n</div>"
     },
     "metadata": {},
     "output_type": "execute_result",
     "execution_count": 26
    }
   ],
   "source": [
    "trans_df.head()"
   ]
  },
  {
   "cell_type": "code",
   "execution_count": 27,
   "metadata": {
    "pycharm": {
     "is_executing": false
    }
   },
   "outputs": [
    {
     "data": {
      "text/plain": "(41560, 25)"
     },
     "metadata": {},
     "output_type": "execute_result",
     "execution_count": 27
    }
   ],
   "source": [
    "trans_df.shape"
   ]
  },
  {
   "cell_type": "markdown",
   "metadata": {},
   "source": [
    "## 数据合并"
   ]
  },
  {
   "cell_type": "code",
   "execution_count": 28,
   "metadata": {
    "pycharm": {
     "is_executing": false
    }
   },
   "outputs": [],
   "source": [
    "# train_df = df_base\n",
    "train_df = pd.merge(df_base, op_df, on='user', how='left')\n",
    "train_df = pd.merge(train_df, trans_df, on='user', how='left')\n",
    "\n",
    "train=train_df"
   ]
  },
  {
   "cell_type": "code",
   "execution_count": 29,
   "metadata": {
    "pycharm": {
     "is_executing": false
    }
   },
   "outputs": [
    {
     "data": {
      "text/plain": "(47782, 130)"
     },
     "metadata": {},
     "output_type": "execute_result",
     "execution_count": 29
    }
   ],
   "source": [
    "train.shape"
   ]
  },
  {
   "cell_type": "code",
   "execution_count": 30,
   "metadata": {
    "pycharm": {
     "is_executing": false
    }
   },
   "outputs": [],
   "source": [
    "length = len(train)\n",
    "train_length = int(0.9*length)\n",
    "\n",
    "x = train.drop(columns=['user','label'],axis=1)[0:train_length]\n",
    "y = train['label'].values[0:train_length]\n",
    "valid_x = train.drop(columns=['user','label'],axis=1)[train_length:]\n",
    "valid_y = train['label'].values[train_length:]\n",
    "\n",
    "x = x.fillna(0)\n",
    "valid_x = valid_x.fillna(0)"
   ]
  },
  {
   "cell_type": "code",
   "execution_count": 31,
   "metadata": {
    "pycharm": {
     "is_executing": false
    }
   },
   "outputs": [
    {
     "name": "stdout",
     "text": [
      "[1]\tvalid_0's binary_logloss: 0.562297\n",
      "Training until validation scores don't improve for 5 rounds\n",
      "[2]\tvalid_0's binary_logloss: 0.560754\n",
      "[3]\tvalid_0's binary_logloss: 0.559674\n",
      "[4]\tvalid_0's binary_logloss: 0.558259\n",
      "[5]\tvalid_0's binary_logloss: 0.556819\n",
      "[6]\tvalid_0's binary_logloss: 0.55552\n",
      "[7]\tvalid_0's binary_logloss: 0.554384\n",
      "[8]\tvalid_0's binary_logloss: 0.553411\n",
      "[9]\tvalid_0's binary_logloss: 0.552709\n",
      "[10]\tvalid_0's binary_logloss: 0.551927\n",
      "[11]\tvalid_0's binary_logloss: 0.551126\n",
      "[12]\tvalid_0's binary_logloss: 0.550389\n",
      "[13]\tvalid_0's binary_logloss: 0.54965\n",
      "[14]\tvalid_0's binary_logloss: 0.548915\n",
      "[15]\tvalid_0's binary_logloss: 0.548283\n",
      "[16]\tvalid_0's binary_logloss: 0.547649\n",
      "[17]\tvalid_0's binary_logloss: 0.547307\n",
      "[18]\tvalid_0's binary_logloss: 0.546896\n",
      "[19]\tvalid_0's binary_logloss: 0.546562\n",
      "[20]\tvalid_0's binary_logloss: 0.54609\n",
      "[21]\tvalid_0's binary_logloss: 0.545636\n",
      "[22]\tvalid_0's binary_logloss: 0.54524\n",
      "[23]\tvalid_0's binary_logloss: 0.544975\n",
      "[24]\tvalid_0's binary_logloss: 0.544702\n",
      "[25]\tvalid_0's binary_logloss: 0.544307\n",
      "[26]\tvalid_0's binary_logloss: 0.544032\n",
      "[27]\tvalid_0's binary_logloss: 0.543588\n",
      "[28]\tvalid_0's binary_logloss: 0.543384\n",
      "[29]\tvalid_0's binary_logloss: 0.54312\n",
      "[30]\tvalid_0's binary_logloss: 0.54281\n",
      "[31]\tvalid_0's binary_logloss: 0.54257\n",
      "[32]\tvalid_0's binary_logloss: 0.542321\n",
      "[33]\tvalid_0's binary_logloss: 0.542139\n",
      "[34]\tvalid_0's binary_logloss: 0.541782\n",
      "[35]\tvalid_0's binary_logloss: 0.541591\n",
      "[36]\tvalid_0's binary_logloss: 0.541393\n",
      "[37]\tvalid_0's binary_logloss: 0.541225\n",
      "[38]\tvalid_0's binary_logloss: 0.541119\n",
      "[39]\tvalid_0's binary_logloss: 0.540811\n",
      "[40]\tvalid_0's binary_logloss: 0.540571\n",
      "[41]\tvalid_0's binary_logloss: 0.54043\n",
      "[42]\tvalid_0's binary_logloss: 0.540123\n",
      "[43]\tvalid_0's binary_logloss: 0.54003\n",
      "[44]\tvalid_0's binary_logloss: 0.539873\n",
      "[45]\tvalid_0's binary_logloss: 0.539801\n",
      "[46]\tvalid_0's binary_logloss: 0.539686\n",
      "[47]\tvalid_0's binary_logloss: 0.539466\n",
      "[48]\tvalid_0's binary_logloss: 0.539324\n",
      "[49]\tvalid_0's binary_logloss: 0.539214\n",
      "[50]\tvalid_0's binary_logloss: 0.539043\n",
      "[51]\tvalid_0's binary_logloss: 0.538893\n",
      "[52]\tvalid_0's binary_logloss: 0.538795\n",
      "[53]\tvalid_0's binary_logloss: 0.538588\n",
      "[54]\tvalid_0's binary_logloss: 0.538575\n",
      "[55]\tvalid_0's binary_logloss: 0.53846\n",
      "[56]\tvalid_0's binary_logloss: 0.538263\n",
      "[57]\tvalid_0's binary_logloss: 0.538105\n",
      "[58]\tvalid_0's binary_logloss: 0.538021\n",
      "[59]\tvalid_0's binary_logloss: 0.537861\n",
      "[60]\tvalid_0's binary_logloss: 0.537782\n",
      "[61]\tvalid_0's binary_logloss: 0.537768\n",
      "[62]\tvalid_0's binary_logloss: 0.537645\n",
      "[63]\tvalid_0's binary_logloss: 0.537615\n",
      "[64]\tvalid_0's binary_logloss: 0.537435\n",
      "[65]\tvalid_0's binary_logloss: 0.537312\n",
      "[66]\tvalid_0's binary_logloss: 0.537159\n",
      "[67]\tvalid_0's binary_logloss: 0.536981\n",
      "[68]\tvalid_0's binary_logloss: 0.536947\n",
      "[69]\tvalid_0's binary_logloss: 0.536876\n",
      "[70]\tvalid_0's binary_logloss: 0.536813\n",
      "[71]\tvalid_0's binary_logloss: 0.536692\n",
      "[72]\tvalid_0's binary_logloss: 0.536545\n",
      "[73]\tvalid_0's binary_logloss: 0.53641\n",
      "[74]\tvalid_0's binary_logloss: 0.536305\n",
      "[75]\tvalid_0's binary_logloss: 0.536146\n",
      "[76]\tvalid_0's binary_logloss: 0.536009\n",
      "[77]\tvalid_0's binary_logloss: 0.535954\n",
      "[78]\tvalid_0's binary_logloss: 0.535928\n",
      "[79]\tvalid_0's binary_logloss: 0.535791\n",
      "[80]\tvalid_0's binary_logloss: 0.535735\n",
      "[81]\tvalid_0's binary_logloss: 0.535702\n",
      "[82]\tvalid_0's binary_logloss: 0.535638\n",
      "[83]\tvalid_0's binary_logloss: 0.535572\n",
      "[84]\tvalid_0's binary_logloss: 0.535516\n",
      "[85]\tvalid_0's binary_logloss: 0.53544\n",
      "[86]\tvalid_0's binary_logloss: 0.535324\n",
      "[87]\tvalid_0's binary_logloss: 0.535304\n",
      "[88]\tvalid_0's binary_logloss: 0.535328\n",
      "[89]\tvalid_0's binary_logloss: 0.535129\n",
      "[90]\tvalid_0's binary_logloss: 0.53506\n",
      "[91]\tvalid_0's binary_logloss: 0.535048\n",
      "[92]\tvalid_0's binary_logloss: 0.535039\n",
      "[93]\tvalid_0's binary_logloss: 0.534827\n",
      "[94]\tvalid_0's binary_logloss: 0.534713\n",
      "[95]\tvalid_0's binary_logloss: 0.5346\n",
      "[96]\tvalid_0's binary_logloss: 0.534404\n",
      "[97]\tvalid_0's binary_logloss: 0.534327\n",
      "[98]\tvalid_0's binary_logloss: 0.534351\n",
      "[99]\tvalid_0's binary_logloss: 0.534235\n",
      "[100]\tvalid_0's binary_logloss: 0.534197\n",
      "[101]\tvalid_0's binary_logloss: 0.534236\n",
      "[102]\tvalid_0's binary_logloss: 0.534222\n",
      "[103]\tvalid_0's binary_logloss: 0.534202\n",
      "[104]\tvalid_0's binary_logloss: 0.534123\n",
      "[105]\tvalid_0's binary_logloss: 0.533994\n",
      "[106]\tvalid_0's binary_logloss: 0.533926\n",
      "[107]\tvalid_0's binary_logloss: 0.533924\n",
      "[108]\tvalid_0's binary_logloss: 0.533884\n",
      "[109]\tvalid_0's binary_logloss: 0.533788\n",
      "[110]\tvalid_0's binary_logloss: 0.533675\n",
      "[111]\tvalid_0's binary_logloss: 0.533689\n",
      "[112]\tvalid_0's binary_logloss: 0.533624\n",
      "[113]\tvalid_0's binary_logloss: 0.533564\n",
      "[114]\tvalid_0's binary_logloss: 0.533468\n",
      "[115]\tvalid_0's binary_logloss: 0.533475\n",
      "[116]\tvalid_0's binary_logloss: 0.533383\n",
      "[117]\tvalid_0's binary_logloss: 0.533231\n",
      "[118]\tvalid_0's binary_logloss: 0.533134\n",
      "[119]\tvalid_0's binary_logloss: 0.533123\n",
      "[120]\tvalid_0's binary_logloss: 0.533086\n",
      "[121]\tvalid_0's binary_logloss: 0.533071\n",
      "[122]\tvalid_0's binary_logloss: 0.53304\n",
      "[123]\tvalid_0's binary_logloss: 0.532969\n",
      "[124]\tvalid_0's binary_logloss: 0.532964\n",
      "[125]\tvalid_0's binary_logloss: 0.532896\n",
      "[126]\tvalid_0's binary_logloss: 0.532908\n",
      "[127]\tvalid_0's binary_logloss: 0.532902\n",
      "[128]\tvalid_0's binary_logloss: 0.532867\n",
      "[129]\tvalid_0's binary_logloss: 0.532837\n",
      "[130]\tvalid_0's binary_logloss: 0.532792\n",
      "[131]\tvalid_0's binary_logloss: 0.532764\n",
      "[132]\tvalid_0's binary_logloss: 0.532756\n",
      "[133]\tvalid_0's binary_logloss: 0.532775\n",
      "[134]\tvalid_0's binary_logloss: 0.532733\n",
      "[135]\tvalid_0's binary_logloss: 0.532659\n",
      "[136]\tvalid_0's binary_logloss: 0.532549\n",
      "[137]\tvalid_0's binary_logloss: 0.532492\n",
      "[138]\tvalid_0's binary_logloss: 0.532474\n",
      "[139]\tvalid_0's binary_logloss: 0.532429\n",
      "[140]\tvalid_0's binary_logloss: 0.532302\n",
      "[141]\tvalid_0's binary_logloss: 0.532286\n",
      "[142]\tvalid_0's binary_logloss: 0.532248\n",
      "[143]\tvalid_0's binary_logloss: 0.532182\n",
      "[144]\tvalid_0's binary_logloss: 0.532157\n",
      "[145]\tvalid_0's binary_logloss: 0.532124\n",
      "[146]\tvalid_0's binary_logloss: 0.532105\n",
      "[147]\tvalid_0's binary_logloss: 0.53206\n",
      "[148]\tvalid_0's binary_logloss: 0.532049\n",
      "[149]\tvalid_0's binary_logloss: 0.532082\n",
      "[150]\tvalid_0's binary_logloss: 0.532048\n",
      "[151]\tvalid_0's binary_logloss: 0.532002\n",
      "[152]\tvalid_0's binary_logloss: 0.531936\n",
      "[153]\tvalid_0's binary_logloss: 0.531931\n",
      "[154]\tvalid_0's binary_logloss: 0.531945\n",
      "[155]\tvalid_0's binary_logloss: 0.531912\n",
      "[156]\tvalid_0's binary_logloss: 0.531795\n",
      "[157]\tvalid_0's binary_logloss: 0.531701\n",
      "[158]\tvalid_0's binary_logloss: 0.531681\n",
      "[159]\tvalid_0's binary_logloss: 0.531687\n",
      "[160]\tvalid_0's binary_logloss: 0.531599\n",
      "[161]\tvalid_0's binary_logloss: 0.531547\n",
      "[162]\tvalid_0's binary_logloss: 0.531564\n",
      "[163]\tvalid_0's binary_logloss: 0.531537\n",
      "[164]\tvalid_0's binary_logloss: 0.531566\n",
      "[165]\tvalid_0's binary_logloss: 0.531553\n",
      "[166]\tvalid_0's binary_logloss: 0.531584\n",
      "[167]\tvalid_0's binary_logloss: 0.531544\n",
      "[168]\tvalid_0's binary_logloss: 0.531537\n",
      "Early stopping, best iteration is:\n",
      "[163]\tvalid_0's binary_logloss: 0.531537\n"
     ],
     "output_type": "stream"
    },
    {
     "data": {
      "text/plain": "0.6723276414251339"
     },
     "metadata": {},
     "output_type": "execute_result",
     "execution_count": 31
    }
   ],
   "source": [
    "from lightgbm import LGBMClassifier\n",
    "from sklearn.metrics import roc_auc_score\n",
    "from sklearn.linear_model import LogisticRegression\n",
    "\n",
    "# model = LogisticRegression()\n",
    "# model.fit(x,y)\n",
    "\n",
    "model = LGBMClassifier(n_estimators=1000, \n",
    "                       learning_rate=0.045,\n",
    "                       subsample=0.8,\n",
    "                       colsample_bytree=0.8,\n",
    "                       reg_alpha=100,\n",
    "                       reg_lambda=100)\n",
    "model.fit(x, y,\n",
    "          eval_set=(valid_x, valid_y),\n",
    "          early_stopping_rounds=5\n",
    "          )\n",
    "\n",
    "prediction = model.predict_proba(valid_x)[:,1]\n",
    "auc = roc_auc_score(valid_y,prediction)\n",
    "auc"
   ]
  },
  {
   "cell_type": "code",
   "execution_count": 32,
   "metadata": {
    "pycharm": {
     "is_executing": false
    },
    "scrolled": false
   },
   "outputs": [
    {
     "data": {
      "text/plain": "['model.pkl']"
     },
     "metadata": {},
     "output_type": "execute_result",
     "execution_count": 32
    }
   ],
   "source": [
    "joblib.dump(model,'model.pkl')"
   ]
  },
  {
   "cell_type": "code",
   "execution_count": 33,
   "metadata": {
    "collapsed": true,
    "pycharm": {
     "is_executing": false
    }
   },
   "outputs": [
    {
     "traceback": [
      "\u001b[1;31m---------------------------------------------------------------------------\u001b[0m",
      "\u001b[1;31mAttributeError\u001b[0m                            Traceback (most recent call last)",
      "\u001b[1;32m<ipython-input-33-f057b3d30b65>\u001b[0m in \u001b[0;36m<module>\u001b[1;34m\u001b[0m\n\u001b[1;32m----> 1\u001b[1;33m \u001b[0mpd\u001b[0m\u001b[1;33m.\u001b[0m\u001b[0mDataFrame\u001b[0m\u001b[1;33m(\u001b[0m\u001b[1;33m{\u001b[0m\u001b[1;34m'column'\u001b[0m\u001b[1;33m:\u001b[0m \u001b[0mx\u001b[0m\u001b[1;33m.\u001b[0m\u001b[0mcolumns\u001b[0m\u001b[1;33m,\u001b[0m\u001b[1;34m'importance'\u001b[0m\u001b[1;33m:\u001b[0m \u001b[0mnp\u001b[0m\u001b[1;33m.\u001b[0m\u001b[0mabs\u001b[0m\u001b[1;33m(\u001b[0m\u001b[0mmodel\u001b[0m\u001b[1;33m.\u001b[0m\u001b[0mcoef_\u001b[0m\u001b[1;33m[\u001b[0m\u001b[1;36m0\u001b[0m\u001b[1;33m]\u001b[0m\u001b[1;33m)\u001b[0m\u001b[1;33m}\u001b[0m\u001b[1;33m)\u001b[0m\u001b[1;33m.\u001b[0m\u001b[0msort_values\u001b[0m\u001b[1;33m(\u001b[0m\u001b[0mby\u001b[0m\u001b[1;33m=\u001b[0m\u001b[1;34m'importance'\u001b[0m\u001b[1;33m)\u001b[0m\u001b[1;33m[\u001b[0m\u001b[1;33m-\u001b[0m\u001b[1;36m100\u001b[0m\u001b[1;33m:\u001b[0m\u001b[1;33m]\u001b[0m\u001b[1;33m\u001b[0m\u001b[1;33m\u001b[0m\u001b[0m\n\u001b[0m\u001b[0;32m      2\u001b[0m \u001b[1;33m\u001b[0m\u001b[0m\n",
      "\u001b[1;31mAttributeError\u001b[0m: 'LGBMClassifier' object has no attribute 'coef_'"
     ],
     "ename": "AttributeError",
     "evalue": "'LGBMClassifier' object has no attribute 'coef_'",
     "output_type": "error"
    }
   ],
   "source": [
    "pd.DataFrame({'column': x.columns,'importance': np.abs(model.coef_[0])}).sort_values(by='importance')[-100:]"
   ]
  },
  {
   "cell_type": "code",
   "execution_count": null,
   "metadata": {
    "pycharm": {
     "is_executing": false
    }
   },
   "outputs": [],
   "source": [
    "pd.DataFrame({'column': x.columns,'importance': model.feature_importances_}).sort_values(by='importance')[-100:]"
   ]
  },
  {
   "cell_type": "code",
   "execution_count": null,
   "metadata": {
    "pycharm": {
     "is_executing": false
    }
   },
   "outputs": [],
   "source": [
    "# select_feature=importance_df['column']\n",
    "\n",
    "# x = x[select_feature]\n",
    "# valid_x = valid_x[select_feature]"
   ]
  },
  {
   "cell_type": "code",
   "execution_count": null,
   "metadata": {
    "pycharm": {
     "is_executing": false
    }
   },
   "outputs": [],
   "source": []
  },
  {
   "cell_type": "code",
   "execution_count": null,
   "metadata": {
    "pycharm": {
     "is_executing": false
    }
   },
   "outputs": [],
   "source": [
    "# from catboost import CatBoostClassifier\n",
    "\n",
    "\n",
    "# model = CatBoostClassifier(\n",
    "#     iterations=500,\n",
    "#     random_seed=42,\n",
    "#     logging_level='Silent'\n",
    "# )\n",
    "\n",
    "# model.fit(\n",
    "#     x.values, y,\n",
    "#     eval_set=(valid_x.values, valid_y),\n",
    "# #     logging_level='Verbose',  # you can uncomment this for text output\n",
    "#     plot=True\n",
    "# )\n",
    "\n",
    "# prediction = model.predict_proba(valid_x)[:,1]\n",
    "# auc = roc_auc_score(valid_y,prediction)\n",
    "# auc"
   ]
  },
  {
   "cell_type": "code",
   "execution_count": null,
   "metadata": {
    "pycharm": {
     "is_executing": false
    }
   },
   "outputs": [],
   "source": []
  },
  {
   "cell_type": "markdown",
   "metadata": {},
   "source": [
    "baseline:\n",
    "0.6769352059269422\n",
    "\n",
    "添加trans amount的扩展变量：\n",
    "0.6782946345739088\n",
    "\n",
    "添加trans ip3的扩展变量：\n",
    "0.6791192236191647\n",
    "\n",
    "添加trans type直接数值化：\n",
    "0.6796788342378327\n",
    "\n",
    "添加所有的des特征，并修改了学习率：\n",
    "0.6823851869318595\n",
    "\n",
    "添加avg特征：\n",
    "0.6831416556804824"
   ]
  },
  {
   "cell_type": "code",
   "execution_count": null,
   "metadata": {
    "pycharm": {
     "is_executing": false
    }
   },
   "outputs": [],
   "source": []
  },
  {
   "cell_type": "code",
   "execution_count": null,
   "metadata": {
    "pycharm": {
     "is_executing": false
    }
   },
   "outputs": [],
   "source": []
  }
 ],
 "metadata": {
  "kernelspec": {
   "display_name": "Python 3",
   "language": "python",
   "name": "python3"
  },
  "language_info": {
   "codemirror_mode": {
    "name": "ipython",
    "version": 3
   },
   "file_extension": ".py",
   "mimetype": "text/x-python",
   "name": "python",
   "nbconvert_exporter": "python",
   "pygments_lexer": "ipython3",
   "version": "3.7.6"
  },
  "pycharm": {
   "stem_cell": {
    "cell_type": "raw",
    "metadata": {
     "collapsed": false
    },
    "source": []
   }
  }
 },
 "nbformat": 4,
 "nbformat_minor": 1
}