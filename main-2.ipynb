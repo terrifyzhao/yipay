{
 "cells": [
  {
   "cell_type": "code",
   "execution_count": 1,
   "metadata": {
    "pycharm": {
     "is_executing": true
    }
   },
   "outputs": [],
   "source": [
    "import pandas as pd\n",
    "import numpy as np\n",
    "import joblib\n",
    "import os\n",
    "from sklearn.preprocessing import OneHotEncoder\n",
    "from sklearn.model_selection import KFold\n",
    "from tqdm import tqdm\n",
    "\n",
    "pd.options.mode.chained_assignment = None"
   ]
  },
  {
   "cell_type": "code",
   "execution_count": 2,
   "metadata": {
    "pycharm": {
     "is_executing": true
    }
   },
   "outputs": [],
   "source": [
    "#显示所有列\n",
    "pd.set_option('display.max_columns', None)\n",
    "#显示所有行\n",
    "pd.set_option('display.max_rows', 500)\n",
    "#设置value的显示长度为100，默认为50\n",
    "pd.set_option('max_colwidth',500)"
   ]
  },
  {
   "cell_type": "code",
   "execution_count": 3,
   "metadata": {
    "pycharm": {
     "is_executing": true
    }
   },
   "outputs": [],
   "source": [
    "train_base = pd.read_csv('data/train_base.csv')\n",
    "test_a_base = pd.read_csv('data/test_a_base.csv')\n",
    "\n",
    "train_op = pd.read_csv('data/train_op.csv')\n",
    "test_a_op = pd.read_csv('data/test_a_op.csv')\n",
    "\n",
    "train_trans = pd.read_csv('data/train_trans.csv')\n",
    "test_a_trans = pd.read_csv('data/test_a_trans.csv')\n",
    "\n",
    "train_label = pd.read_csv('data/train_label.csv')"
   ]
  },
  {
   "cell_type": "code",
   "execution_count": 4,
   "metadata": {
    "pycharm": {
     "is_executing": true
    }
   },
   "outputs": [],
   "source": [
    "train_base = pd.read_csv('data/train_base.csv')\n",
    "train_base = pd.merge(train_base, train_label, on='user', how='left')"
   ]
  },
  {
   "cell_type": "markdown",
   "metadata": {},
   "source": [
    "# base"
   ]
  },
  {
   "cell_type": "code",
   "execution_count": 5,
   "metadata": {
    "pycharm": {
     "is_executing": true
    }
   },
   "outputs": [],
   "source": [
    "# 填充nan，去除user列\n",
    "train_base_no_nan = train_base.drop(columns=['service3_level'],axis=1)\n",
    "test_a_base_no_nan = test_a_base.drop(columns=['service3_level'],axis=1)\n",
    "# 离散值填充众数\n",
    "train_base_no_nan['sex'].fillna('category 0',inplace=True)\n",
    "train_base_no_nan['balance_avg'].fillna('level 1',inplace=True)\n",
    "train_base_no_nan['balance1_avg'].fillna('level 1',inplace=True)\n",
    "train_base_no_nan['balance2_avg'].fillna('level 1',inplace=True)\n",
    "\n",
    "test_a_base_no_nan['sex'].fillna('category 0',inplace=True)\n",
    "test_a_base_no_nan['balance_avg'].fillna('level 1',inplace=True)\n",
    "test_a_base_no_nan['balance1_avg'].fillna('level 1',inplace=True)\n",
    "test_a_base_no_nan['balance2_avg'].fillna('level 1',inplace=True)\n",
    "\n",
    "user = train_base_no_nan['user'].values\n",
    "test_a_user = test_a_base_no_nan['user'].values\n",
    "\n",
    "train_base_no_user = train_base_no_nan.drop(columns=['user'],axis=1)\n",
    "test_a_base_no_user = test_a_base_no_nan.drop(columns=['user'],axis=1)"
   ]
  },
  {
   "cell_type": "code",
   "execution_count": 6,
   "metadata": {},
   "outputs": [],
   "source": [
    "train_base = train_base_no_user\n",
    "df_base = pd.DataFrame()\n",
    "\n",
    "test_a_base = test_a_base_no_user\n",
    "df_test_a_base = pd.DataFrame()"
   ]
  },
  {
   "cell_type": "code",
   "execution_count": 7,
   "metadata": {},
   "outputs": [],
   "source": [
    "# 年龄根据风险比例分箱\n",
    "age_ratio = train_base.groupby('age')['label'].sum()/train_base.groupby('age')['label'].count()\n",
    "\n",
    "age_1 = age_ratio[age_ratio>0.4].index.values\n",
    "\n",
    "tmp_age = age_ratio[age_ratio<0.4]\n",
    "age_2 = tmp_age[tmp_age>0.3].index.values\n",
    "\n",
    "tmp_age = age_ratio[age_ratio<0.3]\n",
    "age_3 = tmp_age[tmp_age>0.2].index.values\n",
    "\n",
    "tmp_age = age_ratio[age_ratio<0.2]\n",
    "age_4 = tmp_age[tmp_age>0.1].index.values\n",
    "\n",
    "age_5 = age_ratio[age_ratio<0.1].index.values\n",
    "\n",
    "def age_class(age):\n",
    "    if age in age_1:\n",
    "        return '0'\n",
    "    elif age in age_2:\n",
    "        return '1'\n",
    "    elif age in age_3:\n",
    "        return '2'\n",
    "    elif age in age_4:\n",
    "        return '3'\n",
    "    elif age in age_5:\n",
    "        return '4'\n",
    "    else:\n",
    "        return '4'\n",
    "    \n",
    "train_base['age_class']=train_base['age'].apply(age_class)\n",
    "test_a_base['age_class']=test_a_base['age'].apply(age_class)"
   ]
  },
  {
   "cell_type": "code",
   "execution_count": 8,
   "metadata": {},
   "outputs": [],
   "source": [
    "# 城市根据风险比例分箱\n",
    "city_ratio = train_base.groupby('city')['label'].sum()/train_base.groupby('city')['label'].count()\n",
    "\n",
    "city_1 = city_ratio[city_ratio>0.4].index.values\n",
    "\n",
    "tmp_city = city_ratio[city_ratio<0.4]\n",
    "city_2 = tmp_city[tmp_city>0.3].index.values\n",
    "\n",
    "tmp_city = city_ratio[city_ratio<0.3]\n",
    "city_3 = tmp_city[tmp_city>0.2].index.values\n",
    "\n",
    "tmp_city = city_ratio[city_ratio<0.2]\n",
    "city_4 = tmp_city[tmp_city>0.1].index.values\n",
    "\n",
    "city_5 = city_ratio[city_ratio<0.1].index.values\n",
    "\n",
    "def city_class(city):\n",
    "    if city in city_1:\n",
    "        return '0'\n",
    "    elif city in city_2:\n",
    "        return '1'\n",
    "    elif city in city_3:\n",
    "        return '2'\n",
    "    elif city in city_4:\n",
    "        return '3'\n",
    "    elif city in city_5:\n",
    "        return '4'\n",
    "    else:\n",
    "        return '5'\n",
    "\n",
    "train_base['city_class']=train_base['city'].apply(city_class)\n",
    "test_a_base['city_class']=test_a_base['city'].apply(city_class)"
   ]
  },
  {
   "cell_type": "code",
   "execution_count": 9,
   "metadata": {},
   "outputs": [],
   "source": [
    "# # balance 分享\n",
    "# balance_ratio = train_base.groupby('balance')['label'].sum()/train_base.groupby('balance')['label'].count()\n",
    "\n",
    "# balance_1 = balance_ratio[balance_ratio>0.29].index.values\n",
    "\n",
    "# tmp_balance = balance_ratio[balance_ratio<0.29]\n",
    "# balance_2 = tmp_balance[tmp_balance>0.19].index.values\n",
    "\n",
    "# balance_3 = balance_ratio[balance_ratio<0.19]\n",
    "\n",
    "# def balance_class(balance):\n",
    "#     if balance in balance_1:\n",
    "#         return '0'\n",
    "#     elif balance in balance_2:\n",
    "#         return '1'\n",
    "#     elif balance in balance_3:\n",
    "#         return '2'\n",
    "    \n",
    "# train_base['balance_class']=train_base['balance'].apply(balance_class)\n",
    "# test_a_base['balance_class']=test_a_base['balance'].apply(balance_class)\n",
    "\n",
    "# # balance1\n",
    "# balance_ratio = train_base.groupby('balance1')['label'].sum()/train_base.groupby('balance1')['label'].count()\n",
    "# balance_1 = balance_ratio[balance_ratio>0.27].index.values\n",
    "\n",
    "# tmp_balance = balance_ratio[balance_ratio<0.27]\n",
    "# balance_2 = tmp_balance[tmp_balance>0.15].index.values\n",
    "\n",
    "# balance_3 = balance_ratio[balance_ratio<0.1]\n",
    "\n",
    "# def balance_class(balance):\n",
    "#     if balance in balance_1:\n",
    "#         return '0'\n",
    "#     elif balance in balance_2:\n",
    "#         return '1'\n",
    "#     elif balance in balance_3:\n",
    "#         return '2'\n",
    "    \n",
    "# train_base['balance1_class']=train_base['balance1'].apply(balance_class)\n",
    "# test_a_base['balance1_class']=test_a_base['balance1'].apply(balance_class)\n",
    "\n",
    "# # balance2\n",
    "# balance_ratio = train_base.groupby('balance2')['label'].sum()/train_base.groupby('balance2')['label'].count()\n",
    "# balance_1 = balance_ratio[balance_ratio>0.24].index.values\n",
    "\n",
    "# tmp_balance = balance_ratio[balance_ratio<0.24]\n",
    "# balance_2 = tmp_balance[tmp_balance>0.21].index.values\n",
    "\n",
    "# balance_3 = balance_ratio[balance_ratio<0.21]\n",
    "\n",
    "# def balance_class(balance):\n",
    "#     if balance in balance_1:\n",
    "#         return '0'\n",
    "#     elif balance in balance_2:\n",
    "#         return '1'\n",
    "#     elif balance in balance_3:\n",
    "#         return '2'\n",
    "    \n",
    "# train_base['balance2_class']=train_base['balance2'].apply(balance_class)\n",
    "# test_a_base['balance2_class']=test_a_base['balance2'].apply(balance_class)\n",
    "\n",
    "# # balance_avg\n",
    "# balance_ratio = train_base.groupby('balance_avg')['label'].sum()/train_base.groupby('balance_avg')['label'].count()\n",
    "\n",
    "# balance_1 = balance_ratio[balance_ratio>0.31].index.values\n",
    "\n",
    "# tmp_balance = balance_ratio[balance_ratio<0.31]\n",
    "# balance_2 = tmp_balance[tmp_balance>0.3].index.values\n",
    "\n",
    "# tmp_balance = balance_ratio[balance_ratio<0.3]\n",
    "# balance_3 = tmp_balance[balance_ratio>0.18]\n",
    "\n",
    "# balance_4 = tmp_balance[balance_ratio<0.18]\n",
    "\n",
    "# def balance_class(balance):\n",
    "#     if balance in balance_1:\n",
    "#         return '0'\n",
    "#     elif balance in balance_2:\n",
    "#         return '1'\n",
    "#     elif balance in balance_3:\n",
    "#         return '2'\n",
    "#     elif balance in balance_4:\n",
    "#         return '3'\n",
    "\n",
    "# train_base['balance_avg_class']=train_base['balance_avg'].apply(balance_class)\n",
    "# test_a_base['balance_avg_class']=test_a_base['balance_avg'].apply(balance_class)\n",
    "\n",
    "# # balance1_avg\n",
    "# balance_ratio = train_base.groupby('balance1_avg')['label'].sum()/train_base.groupby('balance1_avg')['label'].count()\n",
    "\n",
    "# balance_1 = balance_ratio[balance_ratio>0.28].index.values\n",
    "\n",
    "# tmp_balance = balance_ratio[balance_ratio<0.28]\n",
    "# balance_2 = tmp_balance[tmp_balance>0.1].index.values\n",
    "\n",
    "# balance_3 = balance_ratio[balance_ratio<0.1]\n",
    "\n",
    "# def balance_class(balance):\n",
    "#     if balance in balance_1:\n",
    "#         return '0'\n",
    "#     elif balance in balance_2:\n",
    "#         return '1'\n",
    "#     elif balance in balance_3:\n",
    "#         return '2'\n",
    "\n",
    "# train_base['balance1_avg_class']=train_base['balance1_avg'].apply(balance_class)\n",
    "# test_a_base['balance1_avg_class']=test_a_base['balance1_avg'].apply(balance_class)"
   ]
  },
  {
   "cell_type": "code",
   "execution_count": 10,
   "metadata": {},
   "outputs": [],
   "source": [
    "# # product_amount 分箱\n",
    "# # product2_amount\n",
    "# ratio = train_base.groupby('product2_amount')['label'].sum()/train_base.groupby('product2_amount')['label'].count()\n",
    "\n",
    "# fold1 = ratio[ratio>0.2].index.values\n",
    "\n",
    "# tmp_fold = ratio[ratio<0.2]\n",
    "# fold2 = tmp_fold[tmp_fold>0.1].index.values\n",
    "\n",
    "# fold3 = ratio[ratio<0.1]\n",
    "\n",
    "# def fold_class(fold):\n",
    "#     if fold in fold1:\n",
    "#         return '0'\n",
    "#     elif fold in fold_2:\n",
    "#         return '1'\n",
    "#     elif fold in fold_3:\n",
    "#         return '2'\n",
    "\n",
    "# train_base['product2_amount_class']=train_base['product2_amount'].apply(balance_class)\n",
    "# test_a_base['product2_amount_class']=test_a_base['product2_amount'].apply(balance_class)\n",
    "\n",
    "# # product6_amount\n",
    "# ratio = train_base.groupby('product6_amount')['label'].sum()/train_base.groupby('product6_amount')['label'].count()\n",
    "\n",
    "# fold1 = ratio[ratio>0.28].index.values\n",
    "\n",
    "# tmp_fold = ratio[ratio<0.28]\n",
    "# fold2 = tmp_fold[tmp_fold>0.2].index.values\n",
    "\n",
    "# tmp_fold = ratio[ratio<0.2]\n",
    "# fold3 = tmp_fold[tmp_fold>0.1].index.values\n",
    "\n",
    "# fold4 = ratio[ratio<0.1]\n",
    "\n",
    "# def fold_class(fold):\n",
    "#     if fold in fold1:\n",
    "#         return '0'\n",
    "#     elif fold in fold_2:\n",
    "#         return '1'\n",
    "#     elif fold in fold_3:\n",
    "#         return '2'\n",
    "#     elif fold in fold_4:\n",
    "#         return '3'\n",
    "\n",
    "# train_base['product6_amount_class']=train_base['product6_amount'].apply(balance_class)\n",
    "# test_a_base['product6_amount_class']=test_a_base['product6_amount'].apply(balance_class)"
   ]
  },
  {
   "cell_type": "code",
   "execution_count": 11,
   "metadata": {},
   "outputs": [],
   "source": [
    "# 省份选top5\n",
    "a = train_base.groupby('province')['label'].sum()/train_base.groupby('province')['label'].count()\n",
    "a = a.sort_values(ascending=False)[0:5]\n",
    "top_province = a.index.tolist()\n",
    "\n",
    "train_base['top_province'] = train_base['province'].apply(lambda x:str(top_province.index(x)) if x in top_province else '-1')\n",
    "test_a_base['top_province'] = test_a_base['province'].apply(lambda x:str(top_province.index(x)) if x in top_province else '-1')"
   ]
  },
  {
   "cell_type": "code",
   "execution_count": 12,
   "metadata": {},
   "outputs": [],
   "source": [
    "one_hot_df = pd.DataFrame()\n",
    "category_columns = ['sex','age_class','provider','level','verified','regist_type',\n",
    "                    'agreement1','agreement2','agreement3','agreement4',\n",
    "                    'service3',\n",
    "#                     'product1_amount','product3_amount',\n",
    "#                     'product4_amount','product5_amount',\n",
    "#                     'product2_amount','product6_amount',\n",
    "#                     'product2_amount_class','product6_amount_class',\n",
    "                    \n",
    "#                     'balance_class','balance1_class','balance2_class',\n",
    "                    # ---\n",
    "#                     'balance','balance1','balance2',\n",
    "#                     'balance_avg','balance1_avg',\n",
    "#                     'balance_avg_class','balance1_avg_class',\n",
    "                    # ---\n",
    "                    'balance2_avg',\n",
    "                    'city_class','top_province']\n",
    "one_hot_df = pd.get_dummies(train_base[category_columns])\n",
    "test_a_one_hot_df = pd.get_dummies(test_a_base[category_columns])"
   ]
  },
  {
   "cell_type": "code",
   "execution_count": 13,
   "metadata": {},
   "outputs": [],
   "source": [
    "# 交叉特征\n",
    "# one_hot_df['agreement_all_0'] = one_hot_df['agreement1_category 0'].values & one_hot_df['agreement2_category 0'].values & \\\n",
    "#                                  one_hot_df['agreement3_category 0'].values & one_hot_df['agreement4_category 0'].values\n",
    "# one_hot_df['agreement_all_1'] = one_hot_df['agreement1_category 1'].values & one_hot_df['agreement2_category 1'].values & \\\n",
    "#                                  one_hot_df['agreement3_category 1'].values & one_hot_df['agreement4_category 1'].values\n",
    "\n",
    "# one_hot_df['product_all_low'] = one_hot_df['product1_amount_level 1'].values & one_hot_df['product2_amount_level 1'].values & \\\n",
    "#                                  one_hot_df['product3_amount_level 1'].values & one_hot_df['product4_amount_level 0'].values & \\\n",
    "#                                 one_hot_df['product5_amount_level 0'].values & one_hot_df['product6_amount_level 1'].values\n",
    "# one_hot_df['agreement_all_high'] = one_hot_df['product1_amount_level 6'].values & one_hot_df['product2_amount_level 21'].values & \\\n",
    "#                                  one_hot_df['product3_amount_level 3'].values & one_hot_df['product4_amount_level 1'].values & \\\n",
    "#                                     one_hot_df['product5_amount_level 0'].values & one_hot_df['product6_amount_level 21'].values\n",
    "\n",
    "one_hot_df['agg_city_high'] = (one_hot_df['age_class_0'].values | one_hot_df['age_class_1'].values) & \\\n",
    "                              (one_hot_df['city_class_0'].values | one_hot_df['city_class_1'].values)\n",
    "\n",
    "one_hot_df['city_province_high'] = (one_hot_df['top_province_0'].values | one_hot_df['top_province_1'].values) & \\\n",
    "                                    one_hot_df['city_class_0'].values"
   ]
  },
  {
   "cell_type": "code",
   "execution_count": 14,
   "metadata": {},
   "outputs": [],
   "source": [
    "# 交叉特征\n",
    "# test_a_one_hot_df['agreement_all_0'] = test_a_one_hot_df['agreement1_category 0'].values & test_a_one_hot_df['agreement2_category 0'].values & \\\n",
    "#                                  test_a_one_hot_df['agreement3_category 0'].values & test_a_one_hot_df['agreement4_category 0'].values\n",
    "# test_a_one_hot_df['agreement_all_1'] = test_a_one_hot_df['agreement1_category 1'].values & test_a_one_hot_df['agreement2_category 1'].values & \\\n",
    "#                                  test_a_one_hot_df['agreement3_category 1'].values & test_a_one_hot_df['agreement4_category 1'].values\n",
    "\n",
    "# test_a_one_hot_df['product_all_low'] = test_a_one_hot_df['product1_amount_level 1'].values & test_a_one_hot_df['product2_amount_level 1'].values & \\\n",
    "#                                  test_a_one_hot_df['product3_amount_level 1'].values & test_a_one_hot_df['product4_amount_level 0'].values & \\\n",
    "#                                 test_a_one_hot_df['product5_amount_level 0'].values & test_a_one_hot_df['product6_amount_level 1'].values\n",
    "# test_a_one_hot_df['agreement_all_high'] = test_a_one_hot_df['product1_amount_level 6'].values & test_a_one_hot_df['product2_amount_level 21'].values & \\\n",
    "#                                  test_a_one_hot_df['product3_amount_level 3'].values & test_a_one_hot_df['product4_amount_level 1'].values & \\\n",
    "#                                     test_a_one_hot_df['product5_amount_level 0'].values & test_a_one_hot_df['product6_amount_level 21'].values\n",
    "\n",
    "test_a_one_hot_df['agg_city_high'] = (test_a_one_hot_df['age_class_0'].values | test_a_one_hot_df['age_class_1'].values) & \\\n",
    "                              (test_a_one_hot_df['city_class_0'].values | test_a_one_hot_df['city_class_1'].values)\n",
    "\n",
    "test_a_one_hot_df['city_province_high'] = (test_a_one_hot_df['top_province_0'].values | test_a_one_hot_df['top_province_1'].values) & \\\n",
    "                                    test_a_one_hot_df['city_class_0'].values"
   ]
  },
  {
   "cell_type": "code",
   "execution_count": 15,
   "metadata": {
    "pycharm": {
     "is_executing": true
    }
   },
   "outputs": [],
   "source": [
    "def magic_feature(df, f1, f2):\n",
    "    df[f'{f1}_{f2}_a'] = df[f1]+df[f2]\n",
    "    df[f'{f1}_{f2}_s'] = df[f1]-df[f2]\n",
    "    df[f'{f1}_{f2}_m'] = df[f1]*df[f2]\n",
    "    df[f'{f1}_{f2}_d'] = df[f1]/df[f2]"
   ]
  },
  {
   "cell_type": "markdown",
   "metadata": {},
   "source": [
    "### 连续变量的处理"
   ]
  },
  {
   "cell_type": "code",
   "execution_count": 16,
   "metadata": {
    "pycharm": {
     "is_executing": true
    }
   },
   "outputs": [],
   "source": [
    "df_value = train_base_no_user.select_dtypes('int64')\n",
    "test_a_df_value = test_a_base_no_user.select_dtypes('int64')"
   ]
  },
  {
   "cell_type": "code",
   "execution_count": 17,
   "metadata": {
    "pycharm": {
     "is_executing": true
    }
   },
   "outputs": [],
   "source": [
    "df_value['product7_success_cnt'] = df_value['product7_cnt']-df_value['product7_fail_cnt']\n",
    "\n",
    "df_value['card_cnt'] = df_value['card_a_cnt']+df_value['card_b_cnt']+df_value['card_c_cnt']+df_value['card_d_cnt']\n",
    "\n",
    "df_value['ip_cnt_avg'] = df_value['ip_cnt']/df_value['login_days_cnt']\n",
    "\n",
    "df_value['login_cnt_period1_avg']=df_value['login_cnt_period1']/df_value['login_days_cnt']\n",
    "df_value['login_cnt_period2_avg']=df_value['login_cnt_period2']/df_value['login_days_cnt']\n",
    "df_value['login_cnt_period']=df_value['login_cnt_period1']+df_value['login_cnt_period2']\n",
    "df_value['login_cnt_period_avg']=df_value['login_cnt_period']/df_value['login_days_cnt']\n",
    "\n",
    "df_value['service_cnt']=df_value['service1_cnt']+df_value['service2_cnt']\n",
    "df_value['service_avg1_amt']=df_value['service1_amt']/df_value['service1_cnt']\n",
    "\n",
    "df_value['op_cnt']=df_value['op1_cnt']+df_value['op2_cnt']"
   ]
  },
  {
   "cell_type": "code",
   "execution_count": 18,
   "metadata": {},
   "outputs": [],
   "source": [
    "test_a_df_value['product7_success_cnt'] = test_a_df_value['product7_cnt']-test_a_df_value['product7_fail_cnt']\n",
    "\n",
    "test_a_df_value['card_cnt'] = test_a_df_value['card_a_cnt']+test_a_df_value['card_b_cnt']+test_a_df_value['card_c_cnt']+test_a_df_value['card_d_cnt']\n",
    "\n",
    "test_a_df_value['ip_cnt_avg'] = test_a_df_value['ip_cnt']/test_a_df_value['login_days_cnt']\n",
    "\n",
    "test_a_df_value['login_cnt_period1_avg']=test_a_df_value['login_cnt_period1']/test_a_df_value['login_days_cnt']\n",
    "test_a_df_value['login_cnt_period2_avg']=test_a_df_value['login_cnt_period2']/test_a_df_value['login_days_cnt']\n",
    "test_a_df_value['login_cnt_period']=test_a_df_value['login_cnt_period1']+test_a_df_value['login_cnt_period2']\n",
    "test_a_df_value['login_cnt_period_avg']=test_a_df_value['login_cnt_period']/test_a_df_value['login_days_cnt']\n",
    "\n",
    "test_a_df_value['service_cnt']=test_a_df_value['service1_cnt']+test_a_df_value['service2_cnt']\n",
    "test_a_df_value['service_avg1_amt']=test_a_df_value['service1_amt']/test_a_df_value['service1_cnt']\n",
    "\n",
    "test_a_df_value['op_cnt']=test_a_df_value['op1_cnt']+test_a_df_value['op2_cnt']"
   ]
  },
  {
   "cell_type": "code",
   "execution_count": 19,
   "metadata": {
    "pycharm": {
     "is_executing": true
    }
   },
   "outputs": [
    {
     "data": {
      "text/plain": [
       "(47782, 84)"
      ]
     },
     "execution_count": 19,
     "metadata": {},
     "output_type": "execute_result"
    }
   ],
   "source": [
    "# 归一化\n",
    "df_value = (df_value-df_value.min())/(df_value.max()-df_value.min())\n",
    "test_a_df_value = (test_a_df_value-df_value.min())/(test_a_df_value.max()-test_a_df_value.min())\n",
    "\n",
    "df_base = pd.DataFrame()\n",
    "df_base['user'] = user\n",
    "df_base = pd.concat([df_base, one_hot_df, df_value],axis=1)\n",
    "\n",
    "test_a_df_base = pd.DataFrame()\n",
    "test_a_df_base['user'] = test_a_user\n",
    "test_a_df_base = pd.concat([test_a_df_base, test_a_one_hot_df, test_a_df_value],axis=1)\n",
    "\n",
    "df_base.shape"
   ]
  },
  {
   "cell_type": "code",
   "execution_count": 20,
   "metadata": {},
   "outputs": [
    {
     "data": {
      "text/plain": [
       "(24315, 84)"
      ]
     },
     "execution_count": 20,
     "metadata": {},
     "output_type": "execute_result"
    }
   ],
   "source": [
    "test_a_df_base.shape"
   ]
  },
  {
   "cell_type": "markdown",
   "metadata": {},
   "source": [
    "## OP处理"
   ]
  },
  {
   "cell_type": "code",
   "execution_count": 21,
   "metadata": {},
   "outputs": [],
   "source": [
    "from collections import Counter\n",
    "\n",
    "def filter_nan(num):\n",
    "    num = num.dropna()\n",
    "    return num\n",
    "\n",
    "def most(num):\n",
    "    num=filter_nan(num)\n",
    "    if num.empty:\n",
    "        return np.nan\n",
    "    return Counter(num).most_common(1)[0][1]\n",
    "\n",
    "def most_item(num):\n",
    "    num=filter_nan(num)\n",
    "    if num.empty:\n",
    "        return np.nan\n",
    "    return Counter(num).most_common(1)[0][0]\n",
    "\n",
    "def least(num):\n",
    "    num=filter_nan(num)\n",
    "    if num.empty:\n",
    "        return np.nan\n",
    "    return Counter(num).most_common()[:-2:-1][0][1]\n",
    "\n",
    "def least_item(num):\n",
    "    num=filter_nan(num)\n",
    "    if num.empty:\n",
    "        return np.nan\n",
    "    return Counter(num).most_common()[:-2:-1][0][0]\n",
    "\n",
    "def mean_item(num):\n",
    "    num=filter_nan(num)\n",
    "    if num.empty:\n",
    "        return np.nan\n",
    "    else:\n",
    "        nums = list(Counter(num).values())\n",
    "        return np.mean(nums)\n",
    "\n",
    "def std_item(num):\n",
    "    num=filter_nan(num)\n",
    "    if num.empty:\n",
    "        return np.nan\n",
    "    else:\n",
    "        nums = list(Counter(num).values())\n",
    "        return np.std(nums)"
   ]
  },
  {
   "cell_type": "code",
   "execution_count": 22,
   "metadata": {
    "pycharm": {
     "is_executing": true
    }
   },
   "outputs": [],
   "source": [
    "op_df = pd.DataFrame()\n",
    "group = train_op.groupby(['user']).count()\n",
    "op_df['user'] = group.index"
   ]
  },
  {
   "cell_type": "code",
   "execution_count": 23,
   "metadata": {},
   "outputs": [],
   "source": [
    "test_a_op_df = pd.DataFrame()\n",
    "group = test_a_op.groupby(['user']).count()\n",
    "test_a_op_df['user'] = group.index"
   ]
  },
  {
   "cell_type": "code",
   "execution_count": 24,
   "metadata": {},
   "outputs": [],
   "source": [
    "value = train_op['op_type'].unique().tolist()\n",
    "value.extend(test_a_op['op_type'].unique().tolist())\n",
    "value = list(set(value))\n",
    "op_type = {v:i for i,v in enumerate(value)}\n",
    "\n",
    "value = train_op['op_mode'].unique().tolist()\n",
    "value.extend(test_a_op['op_mode'].unique().tolist())\n",
    "value = list(set(value))\n",
    "op_mode = {v:i for i,v in enumerate(value)}\n",
    "\n",
    "value = train_op['op_device'].unique().tolist()\n",
    "value.extend(test_a_op['op_device'].unique().tolist())\n",
    "value = list(set(value))\n",
    "op_device = {v:i for i,v in enumerate(value)}\n",
    "\n",
    "value = train_op['net_type'].unique().tolist()\n",
    "value.extend(test_a_op['net_type'].unique().tolist())\n",
    "value = list(set(value))\n",
    "net_type = {v:i for i,v in enumerate(value)}\n",
    "\n",
    "value = train_op['channel'].unique().tolist()\n",
    "value.extend(test_a_op['channel'].unique().tolist())\n",
    "value = list(set(value))\n",
    "channel = {v:i for i,v in enumerate(value)}"
   ]
  },
  {
   "cell_type": "code",
   "execution_count": 25,
   "metadata": {},
   "outputs": [],
   "source": [
    "def mutil_hot(column, column_dic, data):\n",
    "    op_list = data.groupby('user')[column].apply(list)\n",
    "    vector = np.zeros(shape=(len(op_list),len(column_dic)))\n",
    "    for row,op in enumerate(op_list.values):\n",
    "        for i in op:\n",
    "            index=column_dic[i]\n",
    "            vector[row][index]=1\n",
    "    columns = [f'{column}_{i}' for i in range(len(column_dic))]\n",
    "    tmp_df = pd.DataFrame(vector,columns=columns)\n",
    "    return tmp_df"
   ]
  },
  {
   "cell_type": "code",
   "execution_count": 26,
   "metadata": {},
   "outputs": [],
   "source": [
    "op_type_df = mutil_hot('op_type', op_type, train_op)\n",
    "op_mode_df = mutil_hot('op_mode', op_mode, train_op)\n",
    "op_device_df = mutil_hot('op_device', op_device, train_op)\n",
    "net_type_df = mutil_hot('net_type', net_type, train_op)\n",
    "channel_df = mutil_hot('channel', channel, train_op)\n",
    "\n",
    "op_mutil_hot = pd.concat([op_type_df,op_mode_df,op_device_df,net_type_df,channel_df],axis=1)"
   ]
  },
  {
   "cell_type": "code",
   "execution_count": 27,
   "metadata": {},
   "outputs": [],
   "source": [
    "op_type_df = mutil_hot('op_type', op_type, test_a_op)\n",
    "op_mode_df = mutil_hot('op_mode', op_mode, test_a_op)\n",
    "op_device_df = mutil_hot('op_device', op_device, test_a_op)\n",
    "net_type_df = mutil_hot('net_type', net_type, test_a_op)\n",
    "channel_df = mutil_hot('channel', channel, test_a_op)\n",
    "\n",
    "test_a_op_mutil_hot = pd.concat([op_type_df,op_mode_df,op_device_df,net_type_df,channel_df],axis=1)"
   ]
  },
  {
   "cell_type": "code",
   "execution_count": 28,
   "metadata": {},
   "outputs": [],
   "source": [
    "ip_value_df = train_op.groupby('user')['ip','ip_3'].agg([most,least,mean_item,std_item])\n",
    "ip_value_df.fillna(0,inplace=True)\n",
    "ip_value_df.index=list(range(41892))\n",
    "\n",
    "ip_value_df.columns = [f'{name[0]}_{name[1]}' for name in ip_value_df.columns]"
   ]
  },
  {
   "cell_type": "code",
   "execution_count": 29,
   "metadata": {},
   "outputs": [],
   "source": [
    "test_a_ip_value_df = test_a_op.groupby('user')['ip','ip_3'].agg([most,least,mean_item,std_item])\n",
    "test_a_ip_value_df.fillna(0,inplace=True)\n",
    "test_a_ip_value_df.index=list(range(20458))\n",
    "\n",
    "test_a_ip_value_df.columns = [f'{name[0]}_{name[1]}' for name in test_a_ip_value_df.columns]"
   ]
  },
  {
   "cell_type": "code",
   "execution_count": 30,
   "metadata": {
    "pycharm": {
     "is_executing": true
    }
   },
   "outputs": [
    {
     "name": "stdout",
     "output_type": "stream",
     "text": [
      "Index(['op_type', 'op_mode', 'op_device', 'ip', 'net_type', 'channel', 'ip_3'], dtype='object')\n"
     ]
    }
   ],
   "source": [
    "count_column=train_op.columns[1:-1]\n",
    "print(count_column)\n",
    "for column in count_column:\n",
    "    op_df['op_'+column+'_count'] = train_op.groupby('user')[column].count().values\n",
    "    op_df['op_'+column+'_nunique'] = train_op.groupby('user')[column].nunique().values"
   ]
  },
  {
   "cell_type": "code",
   "execution_count": 31,
   "metadata": {},
   "outputs": [
    {
     "name": "stdout",
     "output_type": "stream",
     "text": [
      "Index(['op_type', 'op_mode', 'op_device', 'ip', 'net_type', 'channel', 'ip_3',\n",
      "       'tm_diff'],\n",
      "      dtype='object')\n"
     ]
    }
   ],
   "source": [
    "count_column=test_a_op.columns[1:]\n",
    "print(count_column)\n",
    "for column in count_column:\n",
    "    test_a_op_df['op_'+column+'_count'] = test_a_op.groupby('user')[column].count().values\n",
    "    test_a_op_df['op_'+column+'_nunique'] = test_a_op.groupby('user')[column].nunique().values"
   ]
  },
  {
   "cell_type": "code",
   "execution_count": 32,
   "metadata": {
    "pycharm": {
     "is_executing": true
    }
   },
   "outputs": [],
   "source": [
    "from datetime import timedelta\n",
    "def timedelta2sec(delta):\n",
    "    day = delta.split('days')[0].strip()\n",
    "    h,m,s = delta.split('days')[1].strip().split(':')\n",
    "    sec=timedelta(days=int(day),hours=int(h),minutes=int(m),seconds=float(s)).total_seconds()\n",
    "    return sec\n",
    "\n",
    "train_op['time_diff_sec'] = train_op['tm_diff'].apply(timedelta2sec)\n",
    "test_a_op['time_diff_sec'] = test_a_op['tm_diff'].apply(timedelta2sec)\n",
    "\n",
    "for operate in ['max','min','mean','median','std']:\n",
    "    op_df['op_time_'+operate]=train_op.groupby('user')['time_diff_sec'].agg(operate).values\n",
    "    test_a_op_df['op_time_'+operate]=test_a_op.groupby('user')['time_diff_sec'].agg(operate).values"
   ]
  },
  {
   "cell_type": "code",
   "execution_count": 33,
   "metadata": {},
   "outputs": [],
   "source": [
    "op_df = pd.concat([op_df,op_mutil_hot, ip_value_df],axis=1)\n",
    "test_a_op_df = pd.concat([test_a_op_df,test_a_op_mutil_hot, test_a_ip_value_df],axis=1)"
   ]
  },
  {
   "cell_type": "code",
   "execution_count": 34,
   "metadata": {
    "pycharm": {
     "is_executing": true
    }
   },
   "outputs": [
    {
     "data": {
      "text/plain": [
       "(41892, 1493)"
      ]
     },
     "execution_count": 34,
     "metadata": {},
     "output_type": "execute_result"
    }
   ],
   "source": [
    "op_df.fillna(0,inplace=True)\n",
    "op_df.shape"
   ]
  },
  {
   "cell_type": "code",
   "execution_count": 35,
   "metadata": {},
   "outputs": [
    {
     "data": {
      "text/plain": [
       "(20458, 1495)"
      ]
     },
     "execution_count": 35,
     "metadata": {},
     "output_type": "execute_result"
    }
   ],
   "source": [
    "test_a_op_df.fillna(0,inplace=True)\n",
    "test_a_op_df.shape"
   ]
  },
  {
   "cell_type": "markdown",
   "metadata": {},
   "source": [
    "## 交易处理"
   ]
  },
  {
   "cell_type": "code",
   "execution_count": 36,
   "metadata": {
    "pycharm": {
     "is_executing": true
    }
   },
   "outputs": [],
   "source": [
    "trans_df = pd.DataFrame()\n",
    "group = train_trans.groupby(['user']).count()\n",
    "trans_df['user'] = group.index"
   ]
  },
  {
   "cell_type": "code",
   "execution_count": 37,
   "metadata": {},
   "outputs": [],
   "source": [
    "test_a_trans_df = pd.DataFrame()\n",
    "group = test_a_trans.groupby(['user']).count()\n",
    "test_a_trans_df['user'] = group.index"
   ]
  },
  {
   "cell_type": "code",
   "execution_count": 38,
   "metadata": {
    "pycharm": {
     "is_executing": true
    }
   },
   "outputs": [
    {
     "name": "stdout",
     "output_type": "stream",
     "text": [
      "['platform', 'tunnel_in', 'tunnel_out', 'type1', 'ip', 'type2', 'ip_3']\n"
     ]
    }
   ],
   "source": [
    "#  离散列，全部统计有几个类别\n",
    "count_column = list(train_trans.columns[1:4])+list(train_trans.columns[5:9]) \n",
    "print(count_column)\n",
    "for column in count_column:\n",
    "    trans_df['trans_'+column+'_count'] = train_trans.groupby('user')[column].count().values\n",
    "    trans_df['trans_'+column+'_nunique'] = train_trans.groupby('user')[column].nunique().values"
   ]
  },
  {
   "cell_type": "code",
   "execution_count": 39,
   "metadata": {},
   "outputs": [
    {
     "name": "stdout",
     "output_type": "stream",
     "text": [
      "['platform', 'tunnel_in', 'tunnel_out', 'type1', 'ip', 'type2', 'ip_3']\n"
     ]
    }
   ],
   "source": [
    "#  离散列，全部统计有几个类别\n",
    "count_column = list(test_a_trans.columns[1:4])+list(test_a_trans.columns[5:9]) \n",
    "print(count_column)\n",
    "for column in count_column:\n",
    "    test_a_trans_df['trans_'+column+'_count'] = test_a_trans.groupby('user')[column].count().values\n",
    "    test_a_trans_df['trans_'+column+'_nunique'] = test_a_trans.groupby('user')[column].nunique().values"
   ]
  },
  {
   "cell_type": "code",
   "execution_count": 40,
   "metadata": {},
   "outputs": [],
   "source": [
    "value = train_trans['platform'].unique().tolist()\n",
    "value.extend(test_a_trans['platform'].unique().tolist())\n",
    "value = list(set(value))\n",
    "platform = {v:i for i,v in enumerate(value)}\n",
    "\n",
    "value = train_trans['tunnel_in'].unique().tolist()\n",
    "value.extend(test_a_trans['tunnel_in'].unique().tolist())\n",
    "value = list(set(value))\n",
    "tunnel_in = {v:i for i,v in enumerate(value)}\n",
    "\n",
    "value = train_trans['tunnel_out'].unique().tolist()\n",
    "value.extend(test_a_trans['tunnel_out'].unique().tolist())\n",
    "value = list(set(value))\n",
    "tunnel_out = {v:i for i,v in enumerate(value)}\n",
    "\n",
    "value = train_trans['type1'].unique().tolist()\n",
    "value.extend(test_a_trans['type1'].unique().tolist())\n",
    "value = list(set(value))\n",
    "type1 = {v:i for i,v in enumerate(value)}\n",
    "\n",
    "value = train_trans['type2'].unique().tolist()\n",
    "value.extend(test_a_trans['type2'].unique().tolist())\n",
    "value = list(set(value))\n",
    "type2 = {v:i for i,v in enumerate(value)}"
   ]
  },
  {
   "cell_type": "code",
   "execution_count": 41,
   "metadata": {},
   "outputs": [],
   "source": [
    "def mutil_hot(column, column_dic, data):\n",
    "    op_list = data.groupby('user')[column].apply(list)\n",
    "    vector = np.zeros(shape=(len(op_list),len(column_dic)))\n",
    "    for row,op in enumerate(op_list.values):\n",
    "        for i in op:\n",
    "            index=column_dic[i]\n",
    "            vector[row][index]=1\n",
    "    columns = [f'{column}_{i}' for i in range(len(column_dic))]\n",
    "    tmp_df = pd.DataFrame(vector,columns=columns)\n",
    "    return tmp_df"
   ]
  },
  {
   "cell_type": "code",
   "execution_count": 42,
   "metadata": {},
   "outputs": [],
   "source": [
    "platform_df = mutil_hot('platform', platform, train_trans)\n",
    "tunnel_in_df = mutil_hot('tunnel_in', tunnel_in, train_trans)\n",
    "tunnel_out_df = mutil_hot('tunnel_out', tunnel_out, train_trans)\n",
    "type1_df = mutil_hot('type1', type1, train_trans)\n",
    "type2_df = mutil_hot('type2', type2, train_trans)\n",
    "\n",
    "trans_mutil_hot = pd.concat([platform_df,tunnel_in_df,tunnel_out_df,type1_df,type2_df],axis=1)"
   ]
  },
  {
   "cell_type": "code",
   "execution_count": 43,
   "metadata": {},
   "outputs": [],
   "source": [
    "platform_df = mutil_hot('platform', platform, test_a_trans)\n",
    "tunnel_in_df = mutil_hot('tunnel_in', tunnel_in, test_a_trans)\n",
    "tunnel_out_df = mutil_hot('tunnel_out', tunnel_out, test_a_trans)\n",
    "type1_df = mutil_hot('type1', type1, test_a_trans)\n",
    "type2_df = mutil_hot('type2', type2, test_a_trans)\n",
    "\n",
    "test_a_trans_mutil_hot = pd.concat([platform_df,tunnel_in_df,tunnel_out_df,type1_df,type2_df],axis=1)"
   ]
  },
  {
   "cell_type": "code",
   "execution_count": 44,
   "metadata": {
    "pycharm": {
     "is_executing": true
    }
   },
   "outputs": [],
   "source": [
    "# count_column\n",
    "for operate in ['max','min','mean','median','std']:\n",
    "    trans_df['trans_amount_'+operate]=train_trans.groupby(['user'])['amount'].agg(operate).values\n",
    "    \n",
    "for operate in ['max','min','mean','median','std']:\n",
    "    test_a_trans_df['trans_amount_'+operate]=test_a_trans.groupby(['user'])['amount'].agg(operate).values"
   ]
  },
  {
   "cell_type": "code",
   "execution_count": 45,
   "metadata": {
    "pycharm": {
     "is_executing": true
    }
   },
   "outputs": [],
   "source": [
    "# 处理时间\n",
    "train_trans['time_diff_sec'] = train_trans['tm_diff'].apply(timedelta2sec)\n",
    "test_a_trans['time_diff_sec'] = test_a_trans['tm_diff'].apply(timedelta2sec)\n",
    "\n",
    "for operate in ['max','min','mean','median','std']:\n",
    "    trans_df['trans_time_'+operate]=train_trans.groupby('user')['time_diff_sec'].agg(operate).values\n",
    "\n",
    "for operate in ['max','min','mean','median','std']:\n",
    "    test_a_trans_df['trans_time_'+operate]=test_a_trans.groupby('user')['time_diff_sec'].agg(operate).values"
   ]
  },
  {
   "cell_type": "code",
   "execution_count": 46,
   "metadata": {},
   "outputs": [],
   "source": [
    "ip_value_df = train_trans.groupby('user')['ip','ip_3'].agg([most,least,mean_item,std_item])\n",
    "ip_value_df.fillna(0,inplace=True)\n",
    "ip_value_df.index=list(range(41560))\n",
    "\n",
    "ip_value_df.columns = [f'{name[0]}_{name[1]}' for name in ip_value_df.columns]"
   ]
  },
  {
   "cell_type": "code",
   "execution_count": 47,
   "metadata": {},
   "outputs": [],
   "source": [
    "test_a_ip_value_df = test_a_trans.groupby('user')['ip','ip_3'].agg([most,least,mean_item,std_item])\n",
    "test_a_ip_value_df.fillna(0,inplace=True)\n",
    "test_a_ip_value_df.index=list(range(18813 ))\n",
    "\n",
    "test_a_ip_value_df.columns = [f'{name[0]}_{name[1]}' for name in test_a_ip_value_df.columns]"
   ]
  },
  {
   "cell_type": "code",
   "execution_count": 48,
   "metadata": {},
   "outputs": [],
   "source": [
    "trans_df = pd.concat([trans_df,ip_value_df,trans_mutil_hot],axis=1)\n",
    "test_a_trans_df = pd.concat([test_a_trans_df,test_a_ip_value_df,test_a_trans_mutil_hot],axis=1)"
   ]
  },
  {
   "cell_type": "code",
   "execution_count": 49,
   "metadata": {
    "pycharm": {
     "is_executing": true
    }
   },
   "outputs": [
    {
     "data": {
      "text/plain": [
       "(41560, 85)"
      ]
     },
     "execution_count": 49,
     "metadata": {},
     "output_type": "execute_result"
    }
   ],
   "source": [
    "# ip_value_df\n",
    "trans_df.fillna(0,inplace=True)\n",
    "trans_df.shape"
   ]
  },
  {
   "cell_type": "code",
   "execution_count": 50,
   "metadata": {},
   "outputs": [
    {
     "data": {
      "text/plain": [
       "(18813, 85)"
      ]
     },
     "execution_count": 50,
     "metadata": {},
     "output_type": "execute_result"
    }
   ],
   "source": [
    "test_a_trans_df.fillna(0,inplace=True)\n",
    "test_a_trans_df.shape"
   ]
  },
  {
   "cell_type": "markdown",
   "metadata": {},
   "source": [
    "## 数据合并"
   ]
  },
  {
   "cell_type": "code",
   "execution_count": 115,
   "metadata": {
    "pycharm": {
     "is_executing": true
    }
   },
   "outputs": [
    {
     "data": {
      "text/plain": [
       "(47782, 1660)"
      ]
     },
     "execution_count": 115,
     "metadata": {},
     "output_type": "execute_result"
    }
   ],
   "source": [
    "# train_df = df_base\n",
    "train_df = pd.merge(df_base, op_df, on='user', how='left')\n",
    "train_df = pd.merge(train_df, trans_df, on='user', how='left')\n",
    "train_df.shape"
   ]
  },
  {
   "cell_type": "code",
   "execution_count": 116,
   "metadata": {},
   "outputs": [
    {
     "data": {
      "text/plain": [
       "(24315, 1662)"
      ]
     },
     "execution_count": 116,
     "metadata": {},
     "output_type": "execute_result"
    }
   ],
   "source": [
    "test_a_df = pd.merge(test_a_df_base, test_a_op_df, on='user', how='left')\n",
    "test_a_df = pd.merge(test_a_df, test_a_trans_df, on='user', how='left')\n",
    "test_a_df.shape"
   ]
  },
  {
   "cell_type": "code",
   "execution_count": 117,
   "metadata": {
    "pycharm": {
     "is_executing": true
    }
   },
   "outputs": [],
   "source": [
    "train=train_df"
   ]
  },
  {
   "cell_type": "code",
   "execution_count": 118,
   "metadata": {},
   "outputs": [],
   "source": [
    "train = train.sample(frac=1)"
   ]
  },
  {
   "cell_type": "code",
   "execution_count": 113,
   "metadata": {},
   "outputs": [],
   "source": [
    "x = train.drop(columns=['user','label'],axis=1)\n",
    "x = x.fillna(0)\n",
    "y = train['label']"
   ]
  },
  {
   "cell_type": "code",
   "execution_count": 119,
   "metadata": {},
   "outputs": [],
   "source": [
    "test_x = test_a_df.drop(columns=['user','label'],axis=1)\n",
    "test_x = test_x.fillna(0)"
   ]
  },
  {
   "cell_type": "code",
   "execution_count": 120,
   "metadata": {
    "pycharm": {
     "is_executing": true
    }
   },
   "outputs": [],
   "source": [
    "length = len(train)\n",
    "train_length = int(0.8*length)\n",
    "\n",
    "x = train.drop(columns=['user','label'],axis=1)[0:train_length]\n",
    "y = train['label'].values[0:train_length]\n",
    "valid_x = train.drop(columns=['user','label'],axis=1)[train_length:]\n",
    "valid_y = train['label'].values[train_length:]\n",
    "\n",
    "x = x.fillna(0)\n",
    "valid_x = valid_x.fillna(0)"
   ]
  },
  {
   "cell_type": "code",
   "execution_count": 127,
   "metadata": {
    "pycharm": {
     "is_executing": true
    }
   },
   "outputs": [
    {
     "name": "stdout",
     "output_type": "stream",
     "text": [
      "[1]\tvalid_0's binary_logloss: 0.547101\n",
      "Training until validation scores don't improve for 5 rounds\n",
      "[2]\tvalid_0's binary_logloss: 0.540479\n",
      "[3]\tvalid_0's binary_logloss: 0.534695\n",
      "[4]\tvalid_0's binary_logloss: 0.530298\n",
      "[5]\tvalid_0's binary_logloss: 0.526441\n",
      "[6]\tvalid_0's binary_logloss: 0.522841\n",
      "[7]\tvalid_0's binary_logloss: 0.519587\n",
      "[8]\tvalid_0's binary_logloss: 0.516542\n",
      "[9]\tvalid_0's binary_logloss: 0.514254\n",
      "[10]\tvalid_0's binary_logloss: 0.512034\n",
      "Did not meet early stopping. Best iteration is:\n",
      "[10]\tvalid_0's binary_logloss: 0.512034\n",
      "0.7172814652218439\n",
      "0.7397624864606708\n"
     ]
    }
   ],
   "source": [
    "from lightgbm import LGBMClassifier\n",
    "from sklearn.metrics import roc_auc_score\n",
    "from sklearn.linear_model import LogisticRegression\n",
    "\n",
    "# model = LogisticRegression()\n",
    "# model.fit(x,y)\n",
    "\n",
    "model = LGBMClassifier(n_estimators=10, \n",
    "                       learning_rate=0.1,\n",
    "                       subsample=0.6,\n",
    "                       colsample_bytree=0.6,\n",
    "                       importance_type='gain')\n",
    "model.fit(x, y,\n",
    "          eval_set=(valid_x, valid_y),\n",
    "          early_stopping_rounds=5\n",
    "          )\n",
    "\n",
    "prediction = model.predict_proba(valid_x)[:,1]\n",
    "auc = roc_auc_score(valid_y,prediction)\n",
    "print(auc)\n",
    "\n",
    "prediction = model.predict_proba(x)[:,1]\n",
    "auc = roc_auc_score(y,prediction)\n",
    "print(auc)"
   ]
  },
  {
   "cell_type": "code",
   "execution_count": 109,
   "metadata": {
    "collapsed": true
   },
   "outputs": [
    {
     "ename": "AttributeError",
     "evalue": "'numpy.ndarray' object has no attribute 'iloc'",
     "output_type": "error",
     "traceback": [
      "\u001b[1;31m---------------------------------------------------------------------------\u001b[0m",
      "\u001b[1;31mAttributeError\u001b[0m                            Traceback (most recent call last)",
      "\u001b[1;32m<ipython-input-109-bc5efd4cc867>\u001b[0m in \u001b[0;36m<module>\u001b[1;34m\u001b[0m\n\u001b[0;32m      9\u001b[0m \u001b[0mi\u001b[0m\u001b[1;33m=\u001b[0m\u001b[1;36m0\u001b[0m\u001b[1;33m\u001b[0m\u001b[1;33m\u001b[0m\u001b[0m\n\u001b[0;32m     10\u001b[0m \u001b[1;32mfor\u001b[0m \u001b[0mtrain_index\u001b[0m\u001b[1;33m,\u001b[0m\u001b[0mtest_index\u001b[0m \u001b[1;32min\u001b[0m \u001b[0mkfold\u001b[0m\u001b[1;33m.\u001b[0m\u001b[0msplit\u001b[0m\u001b[1;33m(\u001b[0m\u001b[0mx\u001b[0m\u001b[1;33m,\u001b[0m\u001b[0my\u001b[0m\u001b[1;33m)\u001b[0m\u001b[1;33m:\u001b[0m\u001b[1;33m\u001b[0m\u001b[1;33m\u001b[0m\u001b[0m\n\u001b[1;32m---> 11\u001b[1;33m     model.fit(x.iloc[train_index], y.iloc[train_index],\n\u001b[0m\u001b[0;32m     12\u001b[0m               \u001b[0meval_set\u001b[0m\u001b[1;33m=\u001b[0m\u001b[1;33m(\u001b[0m\u001b[0mx\u001b[0m\u001b[1;33m.\u001b[0m\u001b[0miloc\u001b[0m\u001b[1;33m[\u001b[0m\u001b[0mtest_index\u001b[0m\u001b[1;33m]\u001b[0m\u001b[1;33m,\u001b[0m \u001b[0my\u001b[0m\u001b[1;33m.\u001b[0m\u001b[0miloc\u001b[0m\u001b[1;33m[\u001b[0m\u001b[0mtest_index\u001b[0m\u001b[1;33m]\u001b[0m\u001b[1;33m)\u001b[0m\u001b[1;33m,\u001b[0m\u001b[1;33m\u001b[0m\u001b[1;33m\u001b[0m\u001b[0m\n\u001b[0;32m     13\u001b[0m               )\n",
      "\u001b[1;31mAttributeError\u001b[0m: 'numpy.ndarray' object has no attribute 'iloc'"
     ]
    }
   ],
   "source": [
    "kfold= KFold(n_splits=5,random_state =None)\n",
    "\n",
    "model = LGBMClassifier(n_estimators=20, \n",
    "                   learning_rate=0.1,\n",
    "                   subsample=0.8,\n",
    "                   colsample_bytree=0.8)\n",
    "auc=0\n",
    "i=0\n",
    "for train_index,test_index in kfold.split(x,y):\n",
    "    model.fit(x.iloc[train_index], y.iloc[train_index],\n",
    "              eval_set=(x.iloc[test_index], y.iloc[test_index]),\n",
    "              )\n",
    "    prediction = model.predict_proba(x.iloc[test_index])[:,1]\n",
    "    auc += roc_auc_score(y.iloc[test_index],prediction)\n",
    "    i+=1\n",
    "    joblib.dump(model,f'model_{i}.pkl')\n",
    "print(auc/5)"
   ]
  },
  {
   "cell_type": "code",
   "execution_count": null,
   "metadata": {
    "pycharm": {
     "is_executing": true
    },
    "scrolled": false
   },
   "outputs": [],
   "source": [
    "joblib.dump(model,'model.pkl')"
   ]
  },
  {
   "cell_type": "code",
   "execution_count": null,
   "metadata": {
    "collapsed": true,
    "pycharm": {
     "is_executing": true
    }
   },
   "outputs": [],
   "source": [
    "pd.DataFrame({'column': x.columns,'importance': np.abs(model.coef_[0])}).sort_values(by='importance')[-100:]"
   ]
  },
  {
   "cell_type": "code",
   "execution_count": 96,
   "metadata": {
    "pycharm": {
     "is_executing": true
    }
   },
   "outputs": [],
   "source": [
    "feature_df = pd.DataFrame({'column': x.columns,'importance': model.feature_importances_}).sort_values(by='importance', ascending=False)"
   ]
  },
  {
   "cell_type": "code",
   "execution_count": 97,
   "metadata": {},
   "outputs": [
    {
     "data": {
      "text/html": [
       "<div>\n",
       "<style scoped>\n",
       "    .dataframe tbody tr th:only-of-type {\n",
       "        vertical-align: middle;\n",
       "    }\n",
       "\n",
       "    .dataframe tbody tr th {\n",
       "        vertical-align: top;\n",
       "    }\n",
       "\n",
       "    .dataframe thead th {\n",
       "        text-align: right;\n",
       "    }\n",
       "</style>\n",
       "<table border=\"1\" class=\"dataframe\">\n",
       "  <thead>\n",
       "    <tr style=\"text-align: right;\">\n",
       "      <th></th>\n",
       "      <th>column</th>\n",
       "      <th>importance</th>\n",
       "    </tr>\n",
       "  </thead>\n",
       "  <tbody>\n",
       "    <tr>\n",
       "      <th>1586</th>\n",
       "      <td>trans_ip_3_count</td>\n",
       "      <td>4156.209309</td>\n",
       "    </tr>\n",
       "    <tr>\n",
       "      <th>1582</th>\n",
       "      <td>trans_ip_count</td>\n",
       "      <td>2603.879028</td>\n",
       "    </tr>\n",
       "    <tr>\n",
       "      <th>72</th>\n",
       "      <td>product7_success_cnt</td>\n",
       "      <td>1278.944992</td>\n",
       "    </tr>\n",
       "    <tr>\n",
       "      <th>1574</th>\n",
       "      <td>trans_platform_count</td>\n",
       "      <td>759.605564</td>\n",
       "    </tr>\n",
       "    <tr>\n",
       "      <th>1591</th>\n",
       "      <td>trans_amount_median</td>\n",
       "      <td>605.355995</td>\n",
       "    </tr>\n",
       "    <tr>\n",
       "      <th>189</th>\n",
       "      <td>op_type_88</td>\n",
       "      <td>394.354897</td>\n",
       "    </tr>\n",
       "    <tr>\n",
       "      <th>71</th>\n",
       "      <td>product7_fail_cnt</td>\n",
       "      <td>266.352471</td>\n",
       "    </tr>\n",
       "    <tr>\n",
       "      <th>41</th>\n",
       "      <td>city_class_3</td>\n",
       "      <td>256.085608</td>\n",
       "    </tr>\n",
       "    <tr>\n",
       "      <th>1600</th>\n",
       "      <td>ip_mean_item_y</td>\n",
       "      <td>252.860542</td>\n",
       "    </tr>\n",
       "    <tr>\n",
       "      <th>1589</th>\n",
       "      <td>trans_amount_min</td>\n",
       "      <td>206.781958</td>\n",
       "    </tr>\n",
       "    <tr>\n",
       "      <th>27</th>\n",
       "      <td>agreement3_category 0</td>\n",
       "      <td>188.767204</td>\n",
       "    </tr>\n",
       "    <tr>\n",
       "      <th>1509</th>\n",
       "      <td>net_type_1</td>\n",
       "      <td>188.318530</td>\n",
       "    </tr>\n",
       "    <tr>\n",
       "      <th>1590</th>\n",
       "      <td>trans_amount_mean</td>\n",
       "      <td>187.335317</td>\n",
       "    </tr>\n",
       "    <tr>\n",
       "      <th>44</th>\n",
       "      <td>top_province_-1</td>\n",
       "      <td>176.176804</td>\n",
       "    </tr>\n",
       "    <tr>\n",
       "      <th>1596</th>\n",
       "      <td>trans_time_median</td>\n",
       "      <td>175.338621</td>\n",
       "    </tr>\n",
       "    <tr>\n",
       "      <th>1594</th>\n",
       "      <td>trans_time_min</td>\n",
       "      <td>156.937004</td>\n",
       "    </tr>\n",
       "    <tr>\n",
       "      <th>1592</th>\n",
       "      <td>trans_amount_std</td>\n",
       "      <td>132.893839</td>\n",
       "    </tr>\n",
       "    <tr>\n",
       "      <th>53</th>\n",
       "      <td>using_time</td>\n",
       "      <td>117.828529</td>\n",
       "    </tr>\n",
       "    <tr>\n",
       "      <th>52</th>\n",
       "      <td>age</td>\n",
       "      <td>105.224930</td>\n",
       "    </tr>\n",
       "    <tr>\n",
       "      <th>5</th>\n",
       "      <td>age_class_3</td>\n",
       "      <td>88.553600</td>\n",
       "    </tr>\n",
       "    <tr>\n",
       "      <th>1598</th>\n",
       "      <td>ip_most_y</td>\n",
       "      <td>73.858101</td>\n",
       "    </tr>\n",
       "    <tr>\n",
       "      <th>1595</th>\n",
       "      <td>trans_time_mean</td>\n",
       "      <td>56.179841</td>\n",
       "    </tr>\n",
       "    <tr>\n",
       "      <th>85</th>\n",
       "      <td>op_op_mode_nunique</td>\n",
       "      <td>55.302209</td>\n",
       "    </tr>\n",
       "    <tr>\n",
       "      <th>1588</th>\n",
       "      <td>trans_amount_max</td>\n",
       "      <td>50.393120</td>\n",
       "    </tr>\n",
       "    <tr>\n",
       "      <th>59</th>\n",
       "      <td>card_d_cnt</td>\n",
       "      <td>48.730760</td>\n",
       "    </tr>\n",
       "    <tr>\n",
       "      <th>70</th>\n",
       "      <td>product7_cnt</td>\n",
       "      <td>48.710981</td>\n",
       "    </tr>\n",
       "    <tr>\n",
       "      <th>37</th>\n",
       "      <td>balance2_avg_level 5</td>\n",
       "      <td>48.176701</td>\n",
       "    </tr>\n",
       "    <tr>\n",
       "      <th>69</th>\n",
       "      <td>login_days_cnt</td>\n",
       "      <td>47.998721</td>\n",
       "    </tr>\n",
       "    <tr>\n",
       "      <th>174</th>\n",
       "      <td>op_type_73</td>\n",
       "      <td>47.046000</td>\n",
       "    </tr>\n",
       "    <tr>\n",
       "      <th>126</th>\n",
       "      <td>op_type_25</td>\n",
       "      <td>46.324970</td>\n",
       "    </tr>\n",
       "    <tr>\n",
       "      <th>38</th>\n",
       "      <td>city_class_0</td>\n",
       "      <td>44.998590</td>\n",
       "    </tr>\n",
       "    <tr>\n",
       "      <th>57</th>\n",
       "      <td>op1_cnt</td>\n",
       "      <td>42.571820</td>\n",
       "    </tr>\n",
       "    <tr>\n",
       "      <th>1584</th>\n",
       "      <td>trans_type2_count</td>\n",
       "      <td>41.649101</td>\n",
       "    </tr>\n",
       "    <tr>\n",
       "      <th>39</th>\n",
       "      <td>city_class_1</td>\n",
       "      <td>40.990799</td>\n",
       "    </tr>\n",
       "    <tr>\n",
       "      <th>1583</th>\n",
       "      <td>trans_ip_nunique</td>\n",
       "      <td>38.968800</td>\n",
       "    </tr>\n",
       "    <tr>\n",
       "      <th>31</th>\n",
       "      <td>service3_category 0</td>\n",
       "      <td>38.759551</td>\n",
       "    </tr>\n",
       "    <tr>\n",
       "      <th>1578</th>\n",
       "      <td>trans_tunnel_out_count</td>\n",
       "      <td>38.222801</td>\n",
       "    </tr>\n",
       "    <tr>\n",
       "      <th>1604</th>\n",
       "      <td>ip_3_mean_item_y</td>\n",
       "      <td>34.979401</td>\n",
       "    </tr>\n",
       "    <tr>\n",
       "      <th>1631</th>\n",
       "      <td>type1_8</td>\n",
       "      <td>32.737099</td>\n",
       "    </tr>\n",
       "    <tr>\n",
       "      <th>331</th>\n",
       "      <td>op_mode_112</td>\n",
       "      <td>26.799300</td>\n",
       "    </tr>\n",
       "    <tr>\n",
       "      <th>1623</th>\n",
       "      <td>type1_0</td>\n",
       "      <td>24.928710</td>\n",
       "    </tr>\n",
       "    <tr>\n",
       "      <th>65</th>\n",
       "      <td>login_cnt_period1</td>\n",
       "      <td>24.698830</td>\n",
       "    </tr>\n",
       "    <tr>\n",
       "      <th>263</th>\n",
       "      <td>op_mode_44</td>\n",
       "      <td>24.306200</td>\n",
       "    </tr>\n",
       "    <tr>\n",
       "      <th>183</th>\n",
       "      <td>op_type_82</td>\n",
       "      <td>24.007330</td>\n",
       "    </tr>\n",
       "    <tr>\n",
       "      <th>1571</th>\n",
       "      <td>ip_3_least_x</td>\n",
       "      <td>22.114660</td>\n",
       "    </tr>\n",
       "    <tr>\n",
       "      <th>1528</th>\n",
       "      <td>channel_16</td>\n",
       "      <td>20.238590</td>\n",
       "    </tr>\n",
       "    <tr>\n",
       "      <th>90</th>\n",
       "      <td>op_net_type_count</td>\n",
       "      <td>19.677750</td>\n",
       "    </tr>\n",
       "    <tr>\n",
       "      <th>1593</th>\n",
       "      <td>trans_time_max</td>\n",
       "      <td>19.454850</td>\n",
       "    </tr>\n",
       "    <tr>\n",
       "      <th>56</th>\n",
       "      <td>card_c_cnt</td>\n",
       "      <td>19.145220</td>\n",
       "    </tr>\n",
       "    <tr>\n",
       "      <th>76</th>\n",
       "      <td>login_cnt_period2_avg</td>\n",
       "      <td>18.949900</td>\n",
       "    </tr>\n",
       "    <tr>\n",
       "      <th>1544</th>\n",
       "      <td>channel_32</td>\n",
       "      <td>18.648660</td>\n",
       "    </tr>\n",
       "    <tr>\n",
       "      <th>25</th>\n",
       "      <td>agreement2_category 0</td>\n",
       "      <td>18.532900</td>\n",
       "    </tr>\n",
       "    <tr>\n",
       "      <th>96</th>\n",
       "      <td>op_time_max</td>\n",
       "      <td>18.523480</td>\n",
       "    </tr>\n",
       "    <tr>\n",
       "      <th>1599</th>\n",
       "      <td>ip_least_y</td>\n",
       "      <td>18.513980</td>\n",
       "    </tr>\n",
       "    <tr>\n",
       "      <th>100</th>\n",
       "      <td>op_time_std</td>\n",
       "      <td>17.567350</td>\n",
       "    </tr>\n",
       "    <tr>\n",
       "      <th>1576</th>\n",
       "      <td>trans_tunnel_in_count</td>\n",
       "      <td>17.264400</td>\n",
       "    </tr>\n",
       "    <tr>\n",
       "      <th>54</th>\n",
       "      <td>card_a_cnt</td>\n",
       "      <td>15.571740</td>\n",
       "    </tr>\n",
       "    <tr>\n",
       "      <th>1554</th>\n",
       "      <td>channel_42</td>\n",
       "      <td>15.318300</td>\n",
       "    </tr>\n",
       "    <tr>\n",
       "      <th>40</th>\n",
       "      <td>city_class_2</td>\n",
       "      <td>13.872600</td>\n",
       "    </tr>\n",
       "    <tr>\n",
       "      <th>1537</th>\n",
       "      <td>channel_25</td>\n",
       "      <td>13.151490</td>\n",
       "    </tr>\n",
       "    <tr>\n",
       "      <th>143</th>\n",
       "      <td>op_type_42</td>\n",
       "      <td>12.098890</td>\n",
       "    </tr>\n",
       "    <tr>\n",
       "      <th>73</th>\n",
       "      <td>card_cnt</td>\n",
       "      <td>12.096000</td>\n",
       "    </tr>\n",
       "    <tr>\n",
       "      <th>67</th>\n",
       "      <td>ip_cnt</td>\n",
       "      <td>11.867260</td>\n",
       "    </tr>\n",
       "    <tr>\n",
       "      <th>0</th>\n",
       "      <td>sex_category 0</td>\n",
       "      <td>11.748500</td>\n",
       "    </tr>\n",
       "    <tr>\n",
       "      <th>68</th>\n",
       "      <td>login_cnt_avg</td>\n",
       "      <td>11.619300</td>\n",
       "    </tr>\n",
       "    <tr>\n",
       "      <th>28</th>\n",
       "      <td>agreement3_category 1</td>\n",
       "      <td>11.564600</td>\n",
       "    </tr>\n",
       "    <tr>\n",
       "      <th>74</th>\n",
       "      <td>ip_cnt_avg</td>\n",
       "      <td>10.456120</td>\n",
       "    </tr>\n",
       "    <tr>\n",
       "      <th>30</th>\n",
       "      <td>agreement4_category 1</td>\n",
       "      <td>10.377290</td>\n",
       "    </tr>\n",
       "    <tr>\n",
       "      <th>1568</th>\n",
       "      <td>ip_mean_item_x</td>\n",
       "      <td>9.924850</td>\n",
       "    </tr>\n",
       "    <tr>\n",
       "      <th>1</th>\n",
       "      <td>sex_category 1</td>\n",
       "      <td>9.145330</td>\n",
       "    </tr>\n",
       "    <tr>\n",
       "      <th>1362</th>\n",
       "      <td>op_device_1018</td>\n",
       "      <td>9.077480</td>\n",
       "    </tr>\n",
       "    <tr>\n",
       "      <th>1650</th>\n",
       "      <td>type2_7</td>\n",
       "      <td>9.002440</td>\n",
       "    </tr>\n",
       "    <tr>\n",
       "      <th>1620</th>\n",
       "      <td>tunnel_out_2</td>\n",
       "      <td>8.970470</td>\n",
       "    </tr>\n",
       "    <tr>\n",
       "      <th>22</th>\n",
       "      <td>regist_type_category 7</td>\n",
       "      <td>8.707420</td>\n",
       "    </tr>\n",
       "    <tr>\n",
       "      <th>151</th>\n",
       "      <td>op_type_50</td>\n",
       "      <td>8.666840</td>\n",
       "    </tr>\n",
       "    <tr>\n",
       "      <th>32</th>\n",
       "      <td>service3_category 1</td>\n",
       "      <td>8.181960</td>\n",
       "    </tr>\n",
       "    <tr>\n",
       "      <th>1579</th>\n",
       "      <td>trans_tunnel_out_nunique</td>\n",
       "      <td>7.506980</td>\n",
       "    </tr>\n",
       "    <tr>\n",
       "      <th>82</th>\n",
       "      <td>op_op_type_count</td>\n",
       "      <td>7.285830</td>\n",
       "    </tr>\n",
       "    <tr>\n",
       "      <th>97</th>\n",
       "      <td>op_time_min</td>\n",
       "      <td>7.033590</td>\n",
       "    </tr>\n",
       "    <tr>\n",
       "      <th>1644</th>\n",
       "      <td>type2_1</td>\n",
       "      <td>7.021890</td>\n",
       "    </tr>\n",
       "    <tr>\n",
       "      <th>50</th>\n",
       "      <td>agg_city_high</td>\n",
       "      <td>6.528310</td>\n",
       "    </tr>\n",
       "    <tr>\n",
       "      <th>66</th>\n",
       "      <td>login_cnt_period2</td>\n",
       "      <td>5.864800</td>\n",
       "    </tr>\n",
       "    <tr>\n",
       "      <th>119</th>\n",
       "      <td>op_type_18</td>\n",
       "      <td>5.711590</td>\n",
       "    </tr>\n",
       "    <tr>\n",
       "      <th>1567</th>\n",
       "      <td>ip_least_x</td>\n",
       "      <td>5.626760</td>\n",
       "    </tr>\n",
       "    <tr>\n",
       "      <th>45</th>\n",
       "      <td>top_province_0</td>\n",
       "      <td>5.525750</td>\n",
       "    </tr>\n",
       "    <tr>\n",
       "      <th>1566</th>\n",
       "      <td>ip_most_x</td>\n",
       "      <td>5.441430</td>\n",
       "    </tr>\n",
       "    <tr>\n",
       "      <th>84</th>\n",
       "      <td>op_op_mode_count</td>\n",
       "      <td>5.287590</td>\n",
       "    </tr>\n",
       "    <tr>\n",
       "      <th>92</th>\n",
       "      <td>op_channel_count</td>\n",
       "      <td>5.209300</td>\n",
       "    </tr>\n",
       "    <tr>\n",
       "      <th>46</th>\n",
       "      <td>top_province_1</td>\n",
       "      <td>4.899520</td>\n",
       "    </tr>\n",
       "    <tr>\n",
       "      <th>246</th>\n",
       "      <td>op_mode_27</td>\n",
       "      <td>4.584180</td>\n",
       "    </tr>\n",
       "    <tr>\n",
       "      <th>78</th>\n",
       "      <td>login_cnt_period_avg</td>\n",
       "      <td>4.110930</td>\n",
       "    </tr>\n",
       "    <tr>\n",
       "      <th>33</th>\n",
       "      <td>balance2_avg_level 1</td>\n",
       "      <td>3.925660</td>\n",
       "    </tr>\n",
       "    <tr>\n",
       "      <th>75</th>\n",
       "      <td>login_cnt_period1_avg</td>\n",
       "      <td>3.415500</td>\n",
       "    </tr>\n",
       "    <tr>\n",
       "      <th>99</th>\n",
       "      <td>op_time_median</td>\n",
       "      <td>2.687720</td>\n",
       "    </tr>\n",
       "    <tr>\n",
       "      <th>1627</th>\n",
       "      <td>type1_4</td>\n",
       "      <td>2.663940</td>\n",
       "    </tr>\n",
       "    <tr>\n",
       "      <th>98</th>\n",
       "      <td>op_time_mean</td>\n",
       "      <td>1.975240</td>\n",
       "    </tr>\n",
       "    <tr>\n",
       "      <th>64</th>\n",
       "      <td>acc_count</td>\n",
       "      <td>1.920250</td>\n",
       "    </tr>\n",
       "    <tr>\n",
       "      <th>1115</th>\n",
       "      <td>op_device_771</td>\n",
       "      <td>0.000000</td>\n",
       "    </tr>\n",
       "    <tr>\n",
       "      <th>1114</th>\n",
       "      <td>op_device_770</td>\n",
       "      <td>0.000000</td>\n",
       "    </tr>\n",
       "    <tr>\n",
       "      <th>1113</th>\n",
       "      <td>op_device_769</td>\n",
       "      <td>0.000000</td>\n",
       "    </tr>\n",
       "  </tbody>\n",
       "</table>\n",
       "</div>"
      ],
      "text/plain": [
       "                        column   importance\n",
       "1586          trans_ip_3_count  4156.209309\n",
       "1582            trans_ip_count  2603.879028\n",
       "72        product7_success_cnt  1278.944992\n",
       "1574      trans_platform_count   759.605564\n",
       "1591       trans_amount_median   605.355995\n",
       "189                 op_type_88   394.354897\n",
       "71           product7_fail_cnt   266.352471\n",
       "41                city_class_3   256.085608\n",
       "1600            ip_mean_item_y   252.860542\n",
       "1589          trans_amount_min   206.781958\n",
       "27       agreement3_category 0   188.767204\n",
       "1509                net_type_1   188.318530\n",
       "1590         trans_amount_mean   187.335317\n",
       "44             top_province_-1   176.176804\n",
       "1596         trans_time_median   175.338621\n",
       "1594            trans_time_min   156.937004\n",
       "1592          trans_amount_std   132.893839\n",
       "53                  using_time   117.828529\n",
       "52                         age   105.224930\n",
       "5                  age_class_3    88.553600\n",
       "1598                 ip_most_y    73.858101\n",
       "1595           trans_time_mean    56.179841\n",
       "85          op_op_mode_nunique    55.302209\n",
       "1588          trans_amount_max    50.393120\n",
       "59                  card_d_cnt    48.730760\n",
       "70                product7_cnt    48.710981\n",
       "37        balance2_avg_level 5    48.176701\n",
       "69              login_days_cnt    47.998721\n",
       "174                 op_type_73    47.046000\n",
       "126                 op_type_25    46.324970\n",
       "38                city_class_0    44.998590\n",
       "57                     op1_cnt    42.571820\n",
       "1584         trans_type2_count    41.649101\n",
       "39                city_class_1    40.990799\n",
       "1583          trans_ip_nunique    38.968800\n",
       "31         service3_category 0    38.759551\n",
       "1578    trans_tunnel_out_count    38.222801\n",
       "1604          ip_3_mean_item_y    34.979401\n",
       "1631                   type1_8    32.737099\n",
       "331                op_mode_112    26.799300\n",
       "1623                   type1_0    24.928710\n",
       "65           login_cnt_period1    24.698830\n",
       "263                 op_mode_44    24.306200\n",
       "183                 op_type_82    24.007330\n",
       "1571              ip_3_least_x    22.114660\n",
       "1528                channel_16    20.238590\n",
       "90           op_net_type_count    19.677750\n",
       "1593            trans_time_max    19.454850\n",
       "56                  card_c_cnt    19.145220\n",
       "76       login_cnt_period2_avg    18.949900\n",
       "1544                channel_32    18.648660\n",
       "25       agreement2_category 0    18.532900\n",
       "96                 op_time_max    18.523480\n",
       "1599                ip_least_y    18.513980\n",
       "100                op_time_std    17.567350\n",
       "1576     trans_tunnel_in_count    17.264400\n",
       "54                  card_a_cnt    15.571740\n",
       "1554                channel_42    15.318300\n",
       "40                city_class_2    13.872600\n",
       "1537                channel_25    13.151490\n",
       "143                 op_type_42    12.098890\n",
       "73                    card_cnt    12.096000\n",
       "67                      ip_cnt    11.867260\n",
       "0               sex_category 0    11.748500\n",
       "68               login_cnt_avg    11.619300\n",
       "28       agreement3_category 1    11.564600\n",
       "74                  ip_cnt_avg    10.456120\n",
       "30       agreement4_category 1    10.377290\n",
       "1568            ip_mean_item_x     9.924850\n",
       "1               sex_category 1     9.145330\n",
       "1362            op_device_1018     9.077480\n",
       "1650                   type2_7     9.002440\n",
       "1620              tunnel_out_2     8.970470\n",
       "22      regist_type_category 7     8.707420\n",
       "151                 op_type_50     8.666840\n",
       "32         service3_category 1     8.181960\n",
       "1579  trans_tunnel_out_nunique     7.506980\n",
       "82            op_op_type_count     7.285830\n",
       "97                 op_time_min     7.033590\n",
       "1644                   type2_1     7.021890\n",
       "50               agg_city_high     6.528310\n",
       "66           login_cnt_period2     5.864800\n",
       "119                 op_type_18     5.711590\n",
       "1567                ip_least_x     5.626760\n",
       "45              top_province_0     5.525750\n",
       "1566                 ip_most_x     5.441430\n",
       "84            op_op_mode_count     5.287590\n",
       "92            op_channel_count     5.209300\n",
       "46              top_province_1     4.899520\n",
       "246                 op_mode_27     4.584180\n",
       "78        login_cnt_period_avg     4.110930\n",
       "33        balance2_avg_level 1     3.925660\n",
       "75       login_cnt_period1_avg     3.415500\n",
       "99              op_time_median     2.687720\n",
       "1627                   type1_4     2.663940\n",
       "98                op_time_mean     1.975240\n",
       "64                   acc_count     1.920250\n",
       "1115             op_device_771     0.000000\n",
       "1114             op_device_770     0.000000\n",
       "1113             op_device_769     0.000000"
      ]
     },
     "execution_count": 97,
     "metadata": {},
     "output_type": "execute_result"
    }
   ],
   "source": [
    "feature_df[0:100]"
   ]
  },
  {
   "cell_type": "code",
   "execution_count": 98,
   "metadata": {
    "pycharm": {
     "is_executing": true
    }
   },
   "outputs": [],
   "source": [
    "select_feature=feature_df['column'][0:50]\n",
    "\n",
    "x = x[select_feature]\n",
    "valid_x = valid_x[select_feature]"
   ]
  },
  {
   "cell_type": "code",
   "execution_count": 99,
   "metadata": {
    "pycharm": {
     "is_executing": true
    }
   },
   "outputs": [
    {
     "data": {
      "text/plain": [
       "(38225, 50)"
      ]
     },
     "execution_count": 99,
     "metadata": {},
     "output_type": "execute_result"
    }
   ],
   "source": [
    "x.shape"
   ]
  },
  {
   "cell_type": "code",
   "execution_count": 259,
   "metadata": {
    "pycharm": {
     "is_executing": true
    }
   },
   "outputs": [],
   "source": [
    "# from catboost import CatBoostClassifier\n",
    "\n",
    "\n",
    "# model = CatBoostClassifier(\n",
    "#     iterations=500,\n",
    "#     random_seed=42,\n",
    "#     logging_level='Silent'\n",
    "# )\n",
    "\n",
    "# model.fit(\n",
    "#     x.values, y,\n",
    "#     eval_set=(valid_x.values, valid_y),\n",
    "# #     logging_level='Verbose',  # you can uncomment this for text output\n",
    "#     plot=True\n",
    "# )\n",
    "\n",
    "# prediction = model.predict_proba(valid_x)[:,1]\n",
    "# auc = roc_auc_score(valid_y,prediction)\n",
    "# auc"
   ]
  },
  {
   "cell_type": "code",
   "execution_count": 68,
   "metadata": {
    "pycharm": {
     "is_executing": true
    }
   },
   "outputs": [],
   "source": [
    "test_x = test_x[select_feature]"
   ]
  },
  {
   "cell_type": "code",
   "execution_count": 557,
   "metadata": {
    "pycharm": {
     "is_executing": true
    }
   },
   "outputs": [],
   "source": [
    "prob = 0\n",
    "for i in range(1,6):\n",
    "    model = joblib.load(f'model_{i}.pkl')\n",
    "    prob += model.predict_proba(test_x)[:,1]\n",
    "prob = prob/5"
   ]
  },
  {
   "cell_type": "code",
   "execution_count": 69,
   "metadata": {},
   "outputs": [],
   "source": [
    "prob = model.predict_proba(test_x)[:,1]"
   ]
  },
  {
   "cell_type": "code",
   "execution_count": 70,
   "metadata": {},
   "outputs": [
    {
     "data": {
      "text/plain": [
       "0.25390859349709244"
      ]
     },
     "execution_count": 70,
     "metadata": {},
     "output_type": "execute_result"
    }
   ],
   "source": [
    "prob.mean()"
   ]
  },
  {
   "cell_type": "code",
   "execution_count": 621,
   "metadata": {
    "pycharm": {
     "is_executing": true
    }
   },
   "outputs": [
    {
     "data": {
      "text/plain": [
       "(24315,)"
      ]
     },
     "execution_count": 621,
     "metadata": {},
     "output_type": "execute_result"
    }
   ],
   "source": [
    "prob.shape"
   ]
  },
  {
   "cell_type": "code",
   "execution_count": 622,
   "metadata": {},
   "outputs": [],
   "source": [
    "df_res = pd.DataFrame()\n",
    "df_res['user'] = test_a_df['user'].values\n",
    "df_res['prob'] = prob\n",
    "\n",
    "df_res.to_csv('result1.csv', index=False)"
   ]
  },
  {
   "cell_type": "code",
   "execution_count": 472,
   "metadata": {},
   "outputs": [],
   "source": []
  },
  {
   "cell_type": "code",
   "execution_count": null,
   "metadata": {},
   "outputs": [],
   "source": []
  }
 ],
 "metadata": {
  "kernelspec": {
   "display_name": "Python 3",
   "language": "python",
   "name": "python3"
  },
  "language_info": {
   "codemirror_mode": {
    "name": "ipython",
    "version": 3
   },
   "file_extension": ".py",
   "mimetype": "text/x-python",
   "name": "python",
   "nbconvert_exporter": "python",
   "pygments_lexer": "ipython3",
   "version": "3.7.6"
  },
  "pycharm": {
   "stem_cell": {
    "cell_type": "raw",
    "metadata": {
     "collapsed": false
    },
    "source": []
   }
  }
 },
 "nbformat": 4,
 "nbformat_minor": 1
}
