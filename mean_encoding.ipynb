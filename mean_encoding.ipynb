{
 "cells": [
  {
   "cell_type": "code",
   "execution_count": 1,
   "metadata": {},
   "outputs": [],
   "source": [
    "import pandas as pd\n",
    "import numpy as np\n",
    "import joblib\n",
    "import os\n",
    "from sklearn.preprocessing import OneHotEncoder\n",
    "from sklearn.model_selection import KFold\n",
    "from tqdm import tqdm\n",
    "\n",
    "pd.options.mode.chained_assignment = None"
   ]
  },
  {
   "cell_type": "code",
   "execution_count": 3,
   "metadata": {},
   "outputs": [],
   "source": [
    "train_base = pd.read_csv('data/train_base.csv')\n",
    "test_a_base = pd.read_csv('data/test_a_base.csv')\n",
    "\n",
    "train_op = pd.read_csv('data/train_op.csv')\n",
    "test_a_op = pd.read_csv('data/test_a_op.csv')\n",
    "\n",
    "train_trans = pd.read_csv('data/train_trans.csv')\n",
    "test_a_trans = pd.read_csv('data/test_a_trans.csv')\n",
    "\n",
    "train_label = pd.read_csv('data/train_label.csv')\n",
    "\n",
    "train_base = pd.read_csv('data/train_base.csv')\n",
    "train_base = pd.merge(train_base, train_label, on='user', how='left')"
   ]
  },
  {
   "cell_type": "code",
   "execution_count": 4,
   "metadata": {},
   "outputs": [],
   "source": [
    "train_base_no_nan = train_base.drop(columns=['service3_level'],axis=1)\n",
    "# 离散值填充众数\n",
    "train_base_no_nan['sex'].fillna('category 0',inplace=True)\n",
    "train_base_no_nan['balance_avg'].fillna('level 1',inplace=True)\n",
    "train_base_no_nan['balance1_avg'].fillna('level 1',inplace=True)\n",
    "train_base_no_nan['balance2_avg'].fillna('level 1',inplace=True)\n",
    "\n",
    "user = train_base_no_nan['user'].values\n",
    "train_base_no_user = train_base_no_nan.drop(columns=['user'],axis=1)"
   ]
  },
  {
   "cell_type": "code",
   "execution_count": 5,
   "metadata": {},
   "outputs": [],
   "source": [
    "def mean_coding(data, feature, target='label'):\n",
    "    n_folds = 20\n",
    "    n_inner_folds = 10\n",
    "    mean_coded = pd.Series()\n",
    "\n",
    "    # 所有数据的label均值\n",
    "    default_mean = data[target].mean()\n",
    "    kf = KFold(n_splits=n_folds, shuffle=True)\n",
    "\n",
    "    out_mean_cv = pd.DataFrame()\n",
    "    split = 0\n",
    "    # 对所有数据做CV\n",
    "    for in_fold, out_fold in tqdm(kf.split(data[feature])):\n",
    "\n",
    "        impact_coded_cv = pd.Series()\n",
    "        kf_inner = KFold(n_splits=n_inner_folds, shuffle=True)\n",
    "        inner_split = 0\n",
    "        inner_mean_cv = pd.DataFrame()\n",
    "\n",
    "        # in_fold数据的label均值\n",
    "        default_inner_mean = data.iloc[in_fold][target].mean()\n",
    "\n",
    "        # 对in_fold数据做CV\n",
    "        for in_fold_inner, out_fold_inner in kf_inner.split(data.iloc[in_fold]):\n",
    "            # The mean to apply to the inner oof split (a 1/n_folds % based on the rest)\n",
    "\n",
    "            # 对in_fold_inner做group_by求出mean:feature-mean\n",
    "            in_fold_inner_mean = data.iloc[in_fold_inner].groupby(by=feature)[target].mean()\n",
    "\n",
    "            # in_fold的mean使用cv后的in_fold_inner的mean值，如果没有在里面，就用in_fold的label均值\n",
    "            impact_coded_cv = impact_coded_cv.append(data.iloc[in_fold].apply(\n",
    "                lambda x: in_fold_inner_mean[x[feature]]\n",
    "                if x[feature] in in_fold_inner_mean.index\n",
    "                else default_inner_mean\n",
    "                , axis=1))\n",
    "\n",
    "            # Also populate mapping (this has all group -> mean for all inner CV folds)\n",
    "            inner_mean_cv = inner_mean_cv.join(pd.DataFrame(in_fold_inner_mean), rsuffix=inner_split, how='outer')\n",
    "            inner_mean_cv.fillna(value=default_inner_mean, inplace=True)\n",
    "            inner_split += 1\n",
    "\n",
    "        # Also populate mapping\n",
    "        out_mean_cv = out_mean_cv.join(pd.DataFrame(inner_mean_cv), rsuffix=split, how='outer')\n",
    "        out_mean_cv.fillna(value=default_mean, inplace=True)\n",
    "        split += 1\n",
    "\n",
    "        mean_coded = mean_coded.append(data.iloc[out_fold].apply(\n",
    "            lambda x: inner_mean_cv.loc[x[feature]].mean()\n",
    "            if x[feature] in inner_mean_cv.index\n",
    "            else default_mean\n",
    "            , axis=1))\n",
    "\n",
    "    return mean_coded, out_mean_cv.mean(axis=1), default_mean"
   ]
  },
  {
   "cell_type": "code",
   "execution_count": 6,
   "metadata": {},
   "outputs": [
    {
     "name": "stderr",
     "output_type": "stream",
     "text": [
      "20it [03:39, 10.96s/it]\n",
      "20it [03:38, 10.95s/it]\n",
      "20it [03:38, 10.90s/it]\n",
      "20it [03:36, 10.83s/it]\n",
      "20it [03:39, 10.98s/it]\n",
      "20it [03:36, 10.85s/it]\n",
      "20it [03:37, 10.90s/it]\n",
      "20it [03:39, 10.95s/it]\n",
      "20it [03:38, 10.94s/it]\n",
      "20it [03:38, 10.94s/it]\n",
      "20it [03:46, 11.35s/it]\n",
      "20it [03:40, 11.00s/it]\n"
     ]
    }
   ],
   "source": [
    "city_mean, city_mapping, city_default_means = mean_coding(train_base_no_user, 'city')\n",
    "province_mean, province_mapping, province_default_means = mean_coding(train_base_no_user, 'province')\n",
    "regist_type_mean, regist_type_mapping, regist_type_default_means = mean_coding(train_base_no_user, 'regist_type')\n",
    "balance_mean, balance_mapping, balance_default_means = mean_coding(train_base_no_user, 'balance')\n",
    "balance_avg_mean, balance_avg_mapping, balance_avg_default_means = mean_coding(train_base_no_user, 'balance_avg')\n",
    "balance1_mean, balance1_mapping, balance1_default_means = mean_coding(train_base_no_user, 'balance1')\n",
    "balance1_avg_mean, balance1_avg_mapping, balance1_avg_default_means = mean_coding(train_base_no_user, 'balance1_avg')\n",
    "balance2_mean, balance2_mapping, balance2_default_means = mean_coding(train_base_no_user, 'balance2')\n",
    "balance2_avg_mean, balance2_avg_mapping, balance2_avg_default_means = mean_coding(train_base_no_user, 'balance2_avg')\n",
    "product1_amount_mean, product1_amount_mapping, product1_amount_default_means = mean_coding(train_base_no_user, 'product1_amount')\n",
    "product2_amount_mean, product2_amount_mapping, product2_amount_default_means = mean_coding(train_base_no_user, 'product2_amount')\n",
    "product6_amount_mean, product6_amount_mapping, product6_amount_default_means = mean_coding(train_base_no_user, 'product6_amount')"
   ]
  },
  {
   "cell_type": "code",
   "execution_count": 7,
   "metadata": {},
   "outputs": [
    {
     "data": {
      "text/plain": [
       "['product6_amount_mean']"
      ]
     },
     "execution_count": 7,
     "metadata": {},
     "output_type": "execute_result"
    }
   ],
   "source": [
    "joblib.dump([city_mean, city_mapping, city_default_means],'city_mean')\n",
    "joblib.dump([province_mean, province_mapping, province_default_means],'province_mean')\n",
    "joblib.dump([regist_type_mean, regist_type_mapping, regist_type_default_means],'regist_type_mean')\n",
    "joblib.dump([balance_mean, balance_mapping, balance_default_means],'balance_mean')\n",
    "joblib.dump([balance_avg_mean, balance_avg_mapping, balance_avg_default_means],'balance_avg_mean')\n",
    "joblib.dump([balance1_mean, balance1_mapping, balance1_default_means],'balance1_mean')\n",
    "joblib.dump([balance1_avg_mean, balance1_avg_mapping, balance1_avg_default_means],'balance1_avg_mean')\n",
    "joblib.dump([balance2_mean, balance2_mapping, balance2_default_means],'balance2_mean')\n",
    "joblib.dump([balance2_avg_mean, balance2_avg_mapping, balance2_avg_default_means],'balance2_avg_mean')\n",
    "joblib.dump([product1_amount_mean, product1_amount_mapping, product1_amount_default_means],'product1_amount_mean')\n",
    "joblib.dump([product2_amount_mean, product2_amount_mapping, product2_amount_default_means],'product2_amount_mean')\n",
    "joblib.dump([product6_amount_mean, product6_amount_mapping, product6_amount_default_means],'product6_amount_mean')"
   ]
  },
  {
   "cell_type": "code",
   "execution_count": null,
   "metadata": {},
   "outputs": [],
   "source": []
  }
 ],
 "metadata": {
  "kernelspec": {
   "display_name": "Python 3",
   "language": "python",
   "name": "python3"
  },
  "language_info": {
   "codemirror_mode": {
    "name": "ipython",
    "version": 3
   },
   "file_extension": ".py",
   "mimetype": "text/x-python",
   "name": "python",
   "nbconvert_exporter": "python",
   "pygments_lexer": "ipython3",
   "version": "3.7.6"
  }
 },
 "nbformat": 4,
 "nbformat_minor": 4
}
