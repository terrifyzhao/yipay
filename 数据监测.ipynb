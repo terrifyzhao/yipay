{
 "cells": [
  {
   "cell_type": "code",
   "execution_count": 1,
   "metadata": {},
   "outputs": [],
   "source": [
    "import pandas as pd\n",
    "\n",
    "train_base = pd.read_csv('data/train_base.csv')\n",
    "\n",
    "train_op = pd.read_csv('data/train_op.csv')\n",
    "\n",
    "train_trans = pd.read_csv('data/train_trans.csv')\n",
    "\n",
    "train_label = pd.read_csv('data/train_label.csv')"
   ]
  },
  {
   "cell_type": "code",
   "execution_count": 11,
   "metadata": {},
   "outputs": [],
   "source": [
    "df = pd.merge(train_trans, train_label, on='user',how='left')"
   ]
  },
  {
   "cell_type": "code",
   "execution_count": 23,
   "metadata": {},
   "outputs": [
    {
     "data": {
      "text/plain": [
       "5"
      ]
     },
     "execution_count": 23,
     "metadata": {},
     "output_type": "execute_result"
    }
   ],
   "source": [
    "len(df_t['tunnel_out'].unique())"
   ]
  },
  {
   "cell_type": "code",
   "execution_count": 27,
   "metadata": {},
   "outputs": [],
   "source": [
    "df_t = df[['label','type1','ip','ip_3','tunnel_out','tunnel_in']]"
   ]
  },
  {
   "cell_type": "code",
   "execution_count": 29,
   "metadata": {},
   "outputs": [
    {
     "data": {
      "text/html": [
       "<div>\n",
       "<style scoped>\n",
       "    .dataframe tbody tr th:only-of-type {\n",
       "        vertical-align: middle;\n",
       "    }\n",
       "\n",
       "    .dataframe tbody tr th {\n",
       "        vertical-align: top;\n",
       "    }\n",
       "\n",
       "    .dataframe thead th {\n",
       "        text-align: right;\n",
       "    }\n",
       "</style>\n",
       "<table border=\"1\" class=\"dataframe\">\n",
       "  <thead>\n",
       "    <tr style=\"text-align: right;\">\n",
       "      <th>tunnel_in</th>\n",
       "      <th>162a612b764132df</th>\n",
       "      <th>6ee790756007e69a</th>\n",
       "      <th>8aa6e57420e0299a</th>\n",
       "      <th>9c5701005a2d85bd</th>\n",
       "      <th>b2e7fa260df4998d</th>\n",
       "    </tr>\n",
       "    <tr>\n",
       "      <th>label</th>\n",
       "      <th></th>\n",
       "      <th></th>\n",
       "      <th></th>\n",
       "      <th></th>\n",
       "      <th></th>\n",
       "    </tr>\n",
       "  </thead>\n",
       "  <tbody>\n",
       "    <tr>\n",
       "      <th>0</th>\n",
       "      <td>745.0</td>\n",
       "      <td>1.0</td>\n",
       "      <td>18.0</td>\n",
       "      <td>5069.0</td>\n",
       "      <td>388453.0</td>\n",
       "    </tr>\n",
       "    <tr>\n",
       "      <th>1</th>\n",
       "      <td>2.0</td>\n",
       "      <td>NaN</td>\n",
       "      <td>1.0</td>\n",
       "      <td>64.0</td>\n",
       "      <td>41014.0</td>\n",
       "    </tr>\n",
       "  </tbody>\n",
       "</table>\n",
       "</div>"
      ],
      "text/plain": [
       "tunnel_in  162a612b764132df  6ee790756007e69a  8aa6e57420e0299a  \\\n",
       "label                                                             \n",
       "0                     745.0               1.0              18.0   \n",
       "1                       2.0               NaN               1.0   \n",
       "\n",
       "tunnel_in  9c5701005a2d85bd  b2e7fa260df4998d  \n",
       "label                                          \n",
       "0                    5069.0          388453.0  \n",
       "1                      64.0           41014.0  "
      ]
     },
     "execution_count": 29,
     "metadata": {},
     "output_type": "execute_result"
    }
   ],
   "source": [
    "df_t.groupby('label')['tunnel_in'].value_counts().unstack()"
   ]
  },
  {
   "cell_type": "code",
   "execution_count": 26,
   "metadata": {},
   "outputs": [
    {
     "data": {
      "text/plain": [
       "<matplotlib.axes._subplots.AxesSubplot at 0x27096769c08>"
      ]
     },
     "execution_count": 26,
     "metadata": {},
     "output_type": "execute_result"
    },
    {
     "data": {
      "image/png": "[encoded data removed]",
      "text/plain": [
       "<Figure size 1440x288 with 1 Axes>"
      ]
     },
     "metadata": {
      "needs_background": "light"
     },
     "output_type": "display_data"
    }
   ],
   "source": [
    "df_t.groupby('label')['tunnel_out'].value_counts().unstack().plot(kind='bar', figsize=(20, 4))"
   ]
  },
  {
   "cell_type": "code",
   "execution_count": 8,
   "metadata": {},
   "outputs": [
    {
     "data": {
      "text/html": [
       "<div>\n",
       "<style scoped>\n",
       "    .dataframe tbody tr th:only-of-type {\n",
       "        vertical-align: middle;\n",
       "    }\n",
       "\n",
       "    .dataframe tbody tr th {\n",
       "        vertical-align: top;\n",
       "    }\n",
       "\n",
       "    .dataframe thead th {\n",
       "        text-align: right;\n",
       "    }\n",
       "</style>\n",
       "<table border=\"1\" class=\"dataframe\">\n",
       "  <thead>\n",
       "    <tr style=\"text-align: right;\">\n",
       "      <th></th>\n",
       "      <th>label</th>\n",
       "      <th>type1</th>\n",
       "    </tr>\n",
       "  </thead>\n",
       "  <tbody>\n",
       "    <tr>\n",
       "      <th>0</th>\n",
       "      <td>0</td>\n",
       "      <td>45a1168437c708ff</td>\n",
       "    </tr>\n",
       "    <tr>\n",
       "      <th>1</th>\n",
       "      <td>0</td>\n",
       "      <td>45a1168437c708ff</td>\n",
       "    </tr>\n",
       "    <tr>\n",
       "      <th>2</th>\n",
       "      <td>0</td>\n",
       "      <td>674e8d5860bc033d</td>\n",
       "    </tr>\n",
       "    <tr>\n",
       "      <th>3</th>\n",
       "      <td>0</td>\n",
       "      <td>f67d4b5a05a1352a</td>\n",
       "    </tr>\n",
       "    <tr>\n",
       "      <th>4</th>\n",
       "      <td>0</td>\n",
       "      <td>f67d4b5a05a1352a</td>\n",
       "    </tr>\n",
       "    <tr>\n",
       "      <th>...</th>\n",
       "      <td>...</td>\n",
       "      <td>...</td>\n",
       "    </tr>\n",
       "    <tr>\n",
       "      <th>591261</th>\n",
       "      <td>0</td>\n",
       "      <td>674e8d5860bc033d</td>\n",
       "    </tr>\n",
       "    <tr>\n",
       "      <th>591262</th>\n",
       "      <td>0</td>\n",
       "      <td>674e8d5860bc033d</td>\n",
       "    </tr>\n",
       "    <tr>\n",
       "      <th>591263</th>\n",
       "      <td>0</td>\n",
       "      <td>f67d4b5a05a1352a</td>\n",
       "    </tr>\n",
       "    <tr>\n",
       "      <th>591264</th>\n",
       "      <td>0</td>\n",
       "      <td>674e8d5860bc033d</td>\n",
       "    </tr>\n",
       "    <tr>\n",
       "      <th>591265</th>\n",
       "      <td>0</td>\n",
       "      <td>674e8d5860bc033d</td>\n",
       "    </tr>\n",
       "  </tbody>\n",
       "</table>\n",
       "<p>591266 rows × 2 columns</p>\n",
       "</div>"
      ],
      "text/plain": [
       "        label             type1\n",
       "0           0  45a1168437c708ff\n",
       "1           0  45a1168437c708ff\n",
       "2           0  674e8d5860bc033d\n",
       "3           0  f67d4b5a05a1352a\n",
       "4           0  f67d4b5a05a1352a\n",
       "...       ...               ...\n",
       "591261      0  674e8d5860bc033d\n",
       "591262      0  674e8d5860bc033d\n",
       "591263      0  f67d4b5a05a1352a\n",
       "591264      0  674e8d5860bc033d\n",
       "591265      0  674e8d5860bc033d\n",
       "\n",
       "[591266 rows x 2 columns]"
      ]
     },
     "execution_count": 8,
     "metadata": {},
     "output_type": "execute_result"
    }
   ],
   "source": [
    "df_t.groupby('label')."
   ]
  },
  {
   "cell_type": "code",
   "execution_count": null,
   "metadata": {},
   "outputs": [],
   "source": []
  }
 ],
 "metadata": {
  "kernelspec": {
   "display_name": "Python 3",
   "language": "python",
   "name": "python3"
  },
  "language_info": {
   "codemirror_mode": {
    "name": "ipython",
    "version": 3
   },
   "file_extension": ".py",
   "mimetype": "text/x-python",
   "name": "python",
   "nbconvert_exporter": "python",
   "pygments_lexer": "ipython3",
   "version": "3.7.6"
  }
 },
 "nbformat": 4,
 "nbformat_minor": 4
}
